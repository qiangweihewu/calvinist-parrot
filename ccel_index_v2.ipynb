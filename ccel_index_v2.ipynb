{
 "cells": [
  {
   "cell_type": "code",
   "execution_count": 1,
   "metadata": {},
   "outputs": [],
   "source": [
    "from llama_index import (\n",
    "    VectorStoreIndex, \n",
    "    KnowledgeGraphIndex,\n",
    "    SimpleDirectoryReader, \n",
    "    ServiceContext,\n",
    "    LLMPredictor,\n",
    "    set_global_service_context\n",
    ")\n",
    "from llama_index.graph_stores import SimpleGraphStore\n",
    "from llama_index.llms.openai import OpenAI\n",
    "from tqdm import tqdm\n",
    "import time, openai, os, re, shutil, ast\n",
    "import pandas as pd\n",
    "\n",
    "from llama_index.node_parser import SimpleNodeParser\n",
    "\n",
    "# load environment variables\n",
    "from dotenv import load_dotenv\n",
    "load_dotenv()\n",
    "openai.api_key = os.environ.get(\"OPENAI_API_KEY\")\n",
    "\n",
    "os.makedirs('temp', exist_ok=True)\n",
    "os.makedirs('query_engines', exist_ok=True)"
   ]
  },
  {
   "cell_type": "code",
   "execution_count": 2,
   "metadata": {},
   "outputs": [],
   "source": [
    "def extract_title_and_creators(filename):\n",
    "    filename = os.path.join(os.getcwd(), filename)\n",
    "    with open(filename, 'r', encoding='utf-8') as file:\n",
    "        content = file.read()\n",
    "\n",
    "    # Regular expressions to match title and creator(s)\n",
    "    title_pattern = re.compile(r'Title:\\s*(.+?)(?=Creator)', re.MULTILINE | re.DOTALL)\n",
    "    creator_pattern = re.compile(r'Creator\\(s\\):\\s*(.+?)(?=\\n\\s+[A-Z][a-zA-Z]*:|$)', re.MULTILINE | re.DOTALL)\n",
    "\n",
    "    # Regular expression to find instances of \"Image of page 1\" or \"Image of page 2\" etc.\n",
    "    image_pattern = re.compile(r'Image of page \\d+')\n",
    "\n",
    "    # If content has more than 3 instances of \"Image of page 1\" or \"Image of page 2\" etc., then it is not a book\n",
    "    if len(image_pattern.findall(content)) > 3:\n",
    "        return '', '', False\n",
    "    else:\n",
    "        # Extract title and creators from the content\n",
    "        title_match = title_pattern.search(content)\n",
    "        title = title_match.group(1).strip() if title_match else ''\n",
    "        title = [title.strip() for title in title.split('\\n') if title.strip()]\n",
    "        title = ' '.join(title)\n",
    "\n",
    "        creator_match = creator_pattern.search(content)\n",
    "        creators = creator_match.group(1).strip() if creator_match else ''\n",
    "        creators = [creator.strip() for creator in creators.split('\\n') if creator.strip()]\n",
    "        creators = ' - '.join(creators)\n",
    "\n",
    "        return title, creators, True"
   ]
  },
  {
   "cell_type": "code",
   "execution_count": 3,
   "metadata": {},
   "outputs": [],
   "source": [
    "chatgpt = OpenAI(temperature=0, model=\"gpt-3.5-turbo\")\n",
    "service_context = ServiceContext.from_defaults(\n",
    "    chunk_size_limit=1024,\n",
    "    llm=chatgpt\n",
    ")\n",
    "\n",
    "parser = SimpleNodeParser.from_defaults()\n",
    "\n",
    "set_global_service_context(service_context)"
   ]
  },
  {
   "cell_type": "code",
   "execution_count": 4,
   "metadata": {},
   "outputs": [],
   "source": [
    "books = pd.read_csv('filename_category.csv')\n",
    "categories = pd.read_csv('category_description.csv')\n",
    "last_index = 0\n",
    "category_docs = {}\n",
    "category_index = {}"
   ]
  },
  {
   "cell_type": "code",
   "execution_count": 5,
   "metadata": {},
   "outputs": [],
   "source": [
    "index_summary = []\n",
    "for row in categories.iterrows():\n",
    "    index_summary.append(f\"{row[1]['Description']}\\nIncludes books like {', '.join(ast.literal_eval(row[1]['Example Titles']))}\\nand authors like {', '.join(ast.literal_eval(row[1]['Frequent Authors']))}\")"
   ]
  },
  {
   "cell_type": "code",
   "execution_count": 7,
   "metadata": {},
   "outputs": [
    {
     "name": "stdout",
     "output_type": "stream",
     "text": [
      "\n",
      "Indexing Biblical Texts and Commentaries...\n"
     ]
    },
    {
     "name": "stderr",
     "output_type": "stream",
     "text": [
      "100%|██████████| 232/232 [1:51:08<00:00, 28.74s/it]    \n"
     ]
    },
    {
     "name": "stdout",
     "output_type": "stream",
     "text": [
      "\n",
      "Indexing Christian Biography...\n"
     ]
    },
    {
     "name": "stderr",
     "output_type": "stream",
     "text": [
      "100%|██████████| 11/11 [00:48<00:00,  4.41s/it]\n"
     ]
    },
    {
     "name": "stdout",
     "output_type": "stream",
     "text": [
      "\n",
      "Indexing Christian Devotional...\n"
     ]
    },
    {
     "name": "stderr",
     "output_type": "stream",
     "text": [
      "100%|██████████| 12/12 [00:29<00:00,  2.48s/it]\n"
     ]
    },
    {
     "name": "stdout",
     "output_type": "stream",
     "text": [
      "\n",
      "Indexing Christian Fiction...\n"
     ]
    },
    {
     "name": "stderr",
     "output_type": "stream",
     "text": [
      "100%|██████████| 42/42 [05:00<00:00,  7.14s/it]\n"
     ]
    },
    {
     "name": "stdout",
     "output_type": "stream",
     "text": [
      "\n",
      "Indexing Christian Life and Worship...\n"
     ]
    },
    {
     "name": "stderr",
     "output_type": "stream",
     "text": [
      "100%|██████████| 254/254 [1:04:33<00:00, 15.25s/it]\n"
     ]
    },
    {
     "name": "stdout",
     "output_type": "stream",
     "text": [
      "\n",
      "Indexing Christian Living...\n"
     ]
    },
    {
     "name": "stderr",
     "output_type": "stream",
     "text": [
      "100%|██████████| 51/51 [04:40<00:00,  5.49s/it]\n"
     ]
    },
    {
     "name": "stdout",
     "output_type": "stream",
     "text": [
      "\n",
      "Indexing Christian Poetry...\n"
     ]
    },
    {
     "name": "stderr",
     "output_type": "stream",
     "text": [
      "100%|██████████| 11/11 [00:34<00:00,  3.14s/it]\n"
     ]
    },
    {
     "name": "stdout",
     "output_type": "stream",
     "text": [
      "\n",
      "Indexing Early Christian Fathers...\n"
     ]
    },
    {
     "name": "stderr",
     "output_type": "stream",
     "text": [
      "100%|██████████| 12/12 [01:05<00:00,  5.50s/it]\n"
     ]
    },
    {
     "name": "stdout",
     "output_type": "stream",
     "text": [
      "\n",
      "Indexing Early Christian Literature...\n"
     ]
    },
    {
     "name": "stderr",
     "output_type": "stream",
     "text": [
      "100%|██████████| 11/11 [07:29<00:00, 40.83s/it]\n"
     ]
    },
    {
     "name": "stdout",
     "output_type": "stream",
     "text": [
      "\n",
      "Indexing Historical and Biographical Texts...\n"
     ]
    },
    {
     "name": "stderr",
     "output_type": "stream",
     "text": [
      "100%|██████████| 63/63 [16:50<00:00, 16.04s/it]\n"
     ]
    },
    {
     "name": "stdout",
     "output_type": "stream",
     "text": [
      "\n",
      "Indexing Miscellaneous...\n"
     ]
    },
    {
     "name": "stderr",
     "output_type": "stream",
     "text": [
      "100%|██████████| 144/144 [30:49<00:00, 12.84s/it] \n"
     ]
    },
    {
     "name": "stdout",
     "output_type": "stream",
     "text": [
      "\n",
      "Indexing Systematic Theology...\n"
     ]
    },
    {
     "name": "stderr",
     "output_type": "stream",
     "text": [
      "100%|██████████| 10/10 [03:52<00:00, 23.25s/it]\n"
     ]
    },
    {
     "name": "stdout",
     "output_type": "stream",
     "text": [
      "\n",
      "Indexing Theology...\n"
     ]
    },
    {
     "name": "stderr",
     "output_type": "stream",
     "text": [
      "100%|██████████| 68/68 [26:43<00:00, 23.59s/it] \n"
     ]
    },
    {
     "name": "stdout",
     "output_type": "stream",
     "text": [
      "\n",
      "Indexing Theology and Beliefs...\n"
     ]
    },
    {
     "name": "stderr",
     "output_type": "stream",
     "text": [
      "100%|██████████| 177/177 [1:07:00<00:00, 22.71s/it]\n"
     ]
    }
   ],
   "source": [
    "for category in categories['Category']:\n",
    "    print(f\"\\nIndexing {category}...\")\n",
    "    category_docs[category] = []\n",
    "    temp_index = VectorStoreIndex([], service_context=service_context)\n",
    "    for book in tqdm(books.loc[books['final_bundled_category'] == category, 'filename']):\n",
    "        shutil.copy(f'raw_data/ccel/{book}', 'temp/temp.txt')\n",
    "        title, authors, validation = extract_title_and_creators(f'raw_data/ccel/{book}')\n",
    "        documents = SimpleDirectoryReader('temp').load_data()\n",
    "        for doc in documents:\n",
    "            doc.metadata['title'] = title\n",
    "            doc.metadata['authors'] = authors\n",
    "            category_docs[category].append(doc)\n",
    "            temp_index.insert(doc)\n",
    "    temp_index.storage_context.persist(persist_dir=f'query_engines/{category}')"
   ]
  },
  {
   "cell_type": "code",
   "execution_count": null,
   "metadata": {},
   "outputs": [],
   "source": []
  }
 ],
 "metadata": {
  "kernelspec": {
   "display_name": "calvinist_parrot",
   "language": "python",
   "name": "python3"
  },
  "language_info": {
   "codemirror_mode": {
    "name": "ipython",
    "version": 3
   },
   "file_extension": ".py",
   "mimetype": "text/x-python",
   "name": "python",
   "nbconvert_exporter": "python",
   "pygments_lexer": "ipython3",
   "version": "3.11.5"
  },
  "orig_nbformat": 4
 },
 "nbformat": 4,
 "nbformat_minor": 2
}
