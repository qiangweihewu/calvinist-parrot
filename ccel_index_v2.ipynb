{
 "cells": [
  {
   "cell_type": "code",
   "execution_count": 1,
   "metadata": {},
   "outputs": [],
   "source": [
    "from llama_index import (\n",
    "    VectorStoreIndex, \n",
    "    KnowledgeGraphIndex,\n",
    "    SimpleDirectoryReader, \n",
    "    ServiceContext,\n",
    "    LLMPredictor,\n",
    "    set_global_service_context\n",
    ")\n",
    "from llama_index.graph_stores import SimpleGraphStore\n",
    "from llama_index.llms.openai import OpenAI\n",
    "from tqdm import tqdm\n",
    "import time, openai, os, re, shutil, ast\n",
    "import pandas as pd\n",
    "import numpy as np\n",
    "\n",
    "from llama_index.node_parser import SimpleNodeParser\n",
    "\n",
    "# load environment variables\n",
    "from dotenv import load_dotenv\n",
    "load_dotenv()\n",
    "openai.api_key = os.environ.get(\"OPENAI_API_KEY\")\n",
    "\n",
    "os.makedirs('temp', exist_ok=True)\n",
    "os.makedirs('query_engines', exist_ok=True)"
   ]
  },
  {
   "cell_type": "code",
   "execution_count": 2,
   "metadata": {},
   "outputs": [],
   "source": [
    "def extract_title_and_creators(filename):\n",
    "    filename = os.path.join(os.getcwd(), filename)\n",
    "    with open(filename, 'r', encoding='utf-8') as file:\n",
    "        content = file.read()\n",
    "\n",
    "    # Regular expressions to match title and creator(s)\n",
    "    title_pattern = re.compile(r'Title:\\s*(.+?)(?=Creator)', re.MULTILINE | re.DOTALL)\n",
    "    creator_pattern = re.compile(r'Creator\\(s\\):\\s*(.+?)(?=\\n\\s+[A-Z][a-zA-Z]*:|$)', re.MULTILINE | re.DOTALL)\n",
    "\n",
    "    # Regular expression to find instances of \"Image of page 1\" or \"Image of page 2\" etc.\n",
    "    image_pattern = re.compile(r'Image of page \\d+')\n",
    "\n",
    "    # If content has more than 3 instances of \"Image of page 1\" or \"Image of page 2\" etc., then it is not a book\n",
    "    if len(image_pattern.findall(content)) > 3:\n",
    "        return '', '', False\n",
    "    else:\n",
    "        # Extract title and creators from the content\n",
    "        title_match = title_pattern.search(content)\n",
    "        title = title_match.group(1).strip() if title_match else ''\n",
    "        title = [title.strip() for title in title.split('\\n') if title.strip()]\n",
    "        title = ' '.join(title)\n",
    "\n",
    "        creator_match = creator_pattern.search(content)\n",
    "        creators = creator_match.group(1).strip() if creator_match else ''\n",
    "        creators = [creator.strip() for creator in creators.split('\\n') if creator.strip()]\n",
    "        creators = ' - '.join(creators)\n",
    "\n",
    "        return title, creators, True"
   ]
  },
  {
   "cell_type": "code",
   "execution_count": 3,
   "metadata": {},
   "outputs": [],
   "source": [
    "chatgpt = OpenAI(temperature=0, model=\"gpt-3.5-turbo\")\n",
    "service_context = ServiceContext.from_defaults(\n",
    "    chunk_size_limit=1024,\n",
    "    llm=chatgpt\n",
    ")\n",
    "\n",
    "parser = SimpleNodeParser.from_defaults()\n",
    "\n",
    "set_global_service_context(service_context)"
   ]
  },
  {
   "cell_type": "code",
   "execution_count": 9,
   "metadata": {},
   "outputs": [
    {
     "data": {
      "text/html": [
       "<div>\n",
       "<style scoped>\n",
       "    .dataframe tbody tr th:only-of-type {\n",
       "        vertical-align: middle;\n",
       "    }\n",
       "\n",
       "    .dataframe tbody tr th {\n",
       "        vertical-align: top;\n",
       "    }\n",
       "\n",
       "    .dataframe thead th {\n",
       "        text-align: right;\n",
       "    }\n",
       "</style>\n",
       "<table border=\"1\" class=\"dataframe\">\n",
       "  <thead>\n",
       "    <tr style=\"text-align: right;\">\n",
       "      <th></th>\n",
       "      <th>filename</th>\n",
       "      <th>final_bundled_category</th>\n",
       "      <th>title</th>\n",
       "      <th>authors</th>\n",
       "    </tr>\n",
       "  </thead>\n",
       "  <tbody>\n",
       "    <tr>\n",
       "      <th>0</th>\n",
       "      <td>ccel_aaberg_hymnsdenmark.txt</td>\n",
       "      <td>Historical and Biographical Texts</td>\n",
       "      <td>Hymns and Hymnwriters of Denmark</td>\n",
       "      <td>Aaberg, Jens Christian (1877-1970)</td>\n",
       "    </tr>\n",
       "    <tr>\n",
       "      <th>1</th>\n",
       "      <td>ccel_abelard_misfortunes.txt</td>\n",
       "      <td>Christian Biography</td>\n",
       "      <td>Historia Calamitatum: The Story of My Misfortunes</td>\n",
       "      <td>Abelard, Peter</td>\n",
       "    </tr>\n",
       "    <tr>\n",
       "      <th>2</th>\n",
       "      <td>ccel_addison_evidences.txt</td>\n",
       "      <td>Theology and Beliefs</td>\n",
       "      <td>The Evidences of the Christian Religion, with ...</td>\n",
       "      <td>Addison, Joseph (1672-1719)</td>\n",
       "    </tr>\n",
       "    <tr>\n",
       "      <th>3</th>\n",
       "      <td>ccel_adeney_expositoreznehes.txt</td>\n",
       "      <td>Biblical Texts and Commentaries</td>\n",
       "      <td>The Expositor's Bible: Ezra, Nehemiah, and Esther</td>\n",
       "      <td>Adeney, Walter Frederic (1849-1920)</td>\n",
       "    </tr>\n",
       "    <tr>\n",
       "      <th>4</th>\n",
       "      <td>ccel_adeney_expositorsonglament.txt</td>\n",
       "      <td>Biblical Texts and Commentaries</td>\n",
       "      <td>The Expositor's Bible: The Song of Solomon and...</td>\n",
       "      <td>Adeney, Walter Frederic (1849-1920)</td>\n",
       "    </tr>\n",
       "  </tbody>\n",
       "</table>\n",
       "</div>"
      ],
      "text/plain": [
       "                              filename             final_bundled_category  \\\n",
       "0         ccel_aaberg_hymnsdenmark.txt  Historical and Biographical Texts   \n",
       "1         ccel_abelard_misfortunes.txt                Christian Biography   \n",
       "2           ccel_addison_evidences.txt               Theology and Beliefs   \n",
       "3     ccel_adeney_expositoreznehes.txt    Biblical Texts and Commentaries   \n",
       "4  ccel_adeney_expositorsonglament.txt    Biblical Texts and Commentaries   \n",
       "\n",
       "                                               title  \\\n",
       "0                   Hymns and Hymnwriters of Denmark   \n",
       "1  Historia Calamitatum: The Story of My Misfortunes   \n",
       "2  The Evidences of the Christian Religion, with ...   \n",
       "3  The Expositor's Bible: Ezra, Nehemiah, and Esther   \n",
       "4  The Expositor's Bible: The Song of Solomon and...   \n",
       "\n",
       "                               authors  \n",
       "0   Aaberg, Jens Christian (1877-1970)  \n",
       "1                       Abelard, Peter  \n",
       "2          Addison, Joseph (1672-1719)  \n",
       "3  Adeney, Walter Frederic (1849-1920)  \n",
       "4  Adeney, Walter Frederic (1849-1920)  "
      ]
     },
     "execution_count": 9,
     "metadata": {},
     "output_type": "execute_result"
    }
   ],
   "source": [
    "books = pd.read_csv('filename_category.csv')\n",
    "categories = pd.read_csv('category_description.csv')\n",
    "last_index = 0\n",
    "category_docs = {}\n",
    "category_index = {}\n",
    "books.head()"
   ]
  },
  {
   "cell_type": "code",
   "execution_count": 11,
   "metadata": {},
   "outputs": [
    {
     "data": {
      "text/plain": [
       "final_bundled_category\n",
       "Biblical Texts and Commentaries      171\n",
       "Theology and Beliefs                 169\n",
       "Christian Life and Worship           167\n",
       "Reformed Theology                    144\n",
       "Miscellaneous                        140\n",
       "Sermons                              102\n",
       "Theology                              68\n",
       "Historical and Biographical Texts     63\n",
       "Reformed Commentaries                 58\n",
       "Christian Living                      51\n",
       "Christian Fiction                     41\n",
       "Christian Devotional                  12\n",
       "Early Christian Fathers               12\n",
       "Christian Biography                   11\n",
       "Christian Poetry                      11\n",
       "Early Christian Literature            11\n",
       "Systematic Theology                   10\n",
       "Name: count, dtype: int64"
      ]
     },
     "execution_count": 11,
     "metadata": {},
     "output_type": "execute_result"
    }
   ],
   "source": [
    "books['final_bundled_category'].value_counts()"
   ]
  },
  {
   "cell_type": "code",
   "execution_count": 43,
   "metadata": {},
   "outputs": [],
   "source": [
    "categories.loc[categories['Category'] == 'Reformed Commentaries', 'Example Titles'] = str(np.random.choice(books.loc[books['final_bundled_category'] == 'Reformed Commentaries', 'title'].unique(), 3).tolist())\n",
    "categories.loc[categories['Category'] == 'Reformed Commentaries', 'Frequent Authors'] = str(np.random.choice(books.loc[books['final_bundled_category'] == 'Reformed Commentaries', 'authors'].unique(), 3).tolist())\n",
    "categories.loc[categories['Category'] == 'Reformed Theology', 'Example Titles'] = str(np.random.choice(books.loc[books['final_bundled_category'] == 'Reformed Theology', 'title'].unique(), 3).tolist())\n",
    "categories.loc[categories['Category'] == 'Reformed Theology', 'Frequent Authors'] = str(np.random.choice(books.loc[books['final_bundled_category'] == 'Reformed Theology', 'authors'].unique(), 3).tolist())"
   ]
  },
  {
   "cell_type": "code",
   "execution_count": 48,
   "metadata": {},
   "outputs": [],
   "source": [
    "categories.to_csv('category_description.csv', index=False)"
   ]
  },
  {
   "cell_type": "code",
   "execution_count": 5,
   "metadata": {},
   "outputs": [],
   "source": [
    "index_summary = []\n",
    "for row in categories.iterrows():\n",
    "    index_summary.append(f\"{row[1]['Description']} - Includes books like {', '.join(ast.literal_eval(row[1]['Example Titles']))} and authors like {', '.join(ast.literal_eval(row[1]['Frequent Authors']))}\")\n",
    "\n",
    "# save index summary to txt file\n",
    "with open('index_summary.txt', 'w', encoding='utf-8') as file:\n",
    "    file.write('\\n'.join(index_summary))"
   ]
  },
  {
   "cell_type": "code",
   "execution_count": 6,
   "metadata": {},
   "outputs": [
    {
     "name": "stdout",
     "output_type": "stream",
     "text": [
      "\n",
      "Indexing Biblical Texts and Commentaries...\n"
     ]
    },
    {
     "name": "stderr",
     "output_type": "stream",
     "text": [
      "100%|██████████| 174/174 [1:21:10<00:00, 27.99s/it]   \n"
     ]
    },
    {
     "name": "stdout",
     "output_type": "stream",
     "text": [
      "\n",
      "Indexing Christian Biography...\n"
     ]
    },
    {
     "name": "stderr",
     "output_type": "stream",
     "text": [
      "100%|██████████| 11/11 [00:54<00:00,  4.96s/it]\n"
     ]
    },
    {
     "name": "stdout",
     "output_type": "stream",
     "text": [
      "\n",
      "Indexing Christian Devotional...\n"
     ]
    },
    {
     "name": "stderr",
     "output_type": "stream",
     "text": [
      "100%|██████████| 12/12 [00:31<00:00,  2.65s/it]\n"
     ]
    },
    {
     "name": "stdout",
     "output_type": "stream",
     "text": [
      "\n",
      "Indexing Christian Fiction...\n"
     ]
    },
    {
     "name": "stderr",
     "output_type": "stream",
     "text": [
      "100%|██████████| 42/42 [04:52<00:00,  6.96s/it]\n"
     ]
    },
    {
     "name": "stdout",
     "output_type": "stream",
     "text": [
      "\n",
      "Indexing Christian Life and Worship...\n"
     ]
    },
    {
     "name": "stderr",
     "output_type": "stream",
     "text": [
      "100%|██████████| 254/254 [1:04:32<00:00, 15.25s/it]\n"
     ]
    },
    {
     "name": "stdout",
     "output_type": "stream",
     "text": [
      "\n",
      "Indexing Christian Living...\n"
     ]
    },
    {
     "name": "stderr",
     "output_type": "stream",
     "text": [
      "100%|██████████| 51/51 [04:39<00:00,  5.49s/it]\n"
     ]
    },
    {
     "name": "stdout",
     "output_type": "stream",
     "text": [
      "\n",
      "Indexing Christian Poetry...\n"
     ]
    },
    {
     "name": "stderr",
     "output_type": "stream",
     "text": [
      "100%|██████████| 11/11 [00:38<00:00,  3.46s/it]\n"
     ]
    },
    {
     "name": "stdout",
     "output_type": "stream",
     "text": [
      "\n",
      "Indexing Early Christian Fathers...\n"
     ]
    },
    {
     "name": "stderr",
     "output_type": "stream",
     "text": [
      "100%|██████████| 12/12 [01:02<00:00,  5.24s/it]\n"
     ]
    },
    {
     "name": "stdout",
     "output_type": "stream",
     "text": [
      "\n",
      "Indexing Early Christian Literature...\n"
     ]
    },
    {
     "name": "stderr",
     "output_type": "stream",
     "text": [
      "100%|██████████| 11/11 [07:28<00:00, 40.79s/it]\n"
     ]
    },
    {
     "name": "stdout",
     "output_type": "stream",
     "text": [
      "\n",
      "Indexing Historical and Biographical Texts...\n"
     ]
    },
    {
     "name": "stderr",
     "output_type": "stream",
     "text": [
      "100%|██████████| 63/63 [16:50<00:00, 16.03s/it]\n"
     ]
    },
    {
     "name": "stdout",
     "output_type": "stream",
     "text": [
      "\n",
      "Indexing Miscellaneous...\n"
     ]
    },
    {
     "name": "stderr",
     "output_type": "stream",
     "text": [
      "100%|██████████| 143/143 [31:07<00:00, 13.06s/it] \n"
     ]
    },
    {
     "name": "stdout",
     "output_type": "stream",
     "text": [
      "\n",
      "Indexing Systematic Theology...\n"
     ]
    },
    {
     "name": "stderr",
     "output_type": "stream",
     "text": [
      "100%|██████████| 10/10 [03:51<00:00, 23.12s/it]\n"
     ]
    },
    {
     "name": "stdout",
     "output_type": "stream",
     "text": [
      "\n",
      "Indexing Theology...\n"
     ]
    },
    {
     "name": "stderr",
     "output_type": "stream",
     "text": [
      "100%|██████████| 68/68 [26:44<00:00, 23.59s/it]  \n"
     ]
    },
    {
     "name": "stdout",
     "output_type": "stream",
     "text": [
      "\n",
      "Indexing Theology and Beliefs...\n"
     ]
    },
    {
     "name": "stderr",
     "output_type": "stream",
     "text": [
      "100%|██████████| 177/177 [1:07:00<00:00, 22.71s/it]\n"
     ]
    },
    {
     "name": "stdout",
     "output_type": "stream",
     "text": [
      "\n",
      "Indexing Reformed Commentaries...\n"
     ]
    },
    {
     "name": "stderr",
     "output_type": "stream",
     "text": [
      "100%|██████████| 58/58 [30:22<00:00, 31.43s/it] \n"
     ]
    },
    {
     "name": "stdout",
     "output_type": "stream",
     "text": [
      "\n",
      "Indexing Reformed Theology...\n"
     ]
    },
    {
     "name": "stderr",
     "output_type": "stream",
     "text": [
      "100%|██████████| 145/145 [52:39<00:00, 21.79s/it]  \n"
     ]
    }
   ],
   "source": [
    "for category in categories['Category']:\n",
    "    print(f\"\\nIndexing {category}...\")\n",
    "    category_docs[category] = []\n",
    "    temp_index = VectorStoreIndex([], service_context=service_context)\n",
    "    for book in tqdm(books.loc[books['final_bundled_category'] == category, 'filename']):\n",
    "        shutil.copy(f'raw_data/ccel/{book}', 'temp/temp.txt')\n",
    "        title, authors, validation = extract_title_and_creators(f'raw_data/ccel/{book}')\n",
    "        documents = SimpleDirectoryReader('temp').load_data()\n",
    "        for doc in documents:\n",
    "            doc.metadata['title'] = title\n",
    "            doc.metadata['authors'] = authors\n",
    "            category_docs[category].append(doc)\n",
    "            temp_index.insert(doc)\n",
    "    temp_index.storage_context.persist(persist_dir=f'query_engines/{category.lower().replace(\" \", \"_\")}')"
   ]
  },
  {
   "cell_type": "code",
   "execution_count": 8,
   "metadata": {},
   "outputs": [],
   "source": [
    "books.loc[books['final_bundled_category'] == 'Christian Life and Worship', :].to_csv('christian_life_and_worship.csv', index=False)"
   ]
  },
  {
   "cell_type": "code",
   "execution_count": 12,
   "metadata": {},
   "outputs": [
    {
     "name": "stdout",
     "output_type": "stream",
     "text": [
      "\n",
      "Indexing Christian Life and Worship...\n"
     ]
    },
    {
     "name": "stderr",
     "output_type": "stream",
     "text": [
      "100%|██████████| 167/167 [21:48<00:00,  7.84s/it]\n"
     ]
    },
    {
     "name": "stdout",
     "output_type": "stream",
     "text": [
      "\n",
      "Indexing Sermons...\n"
     ]
    },
    {
     "name": "stderr",
     "output_type": "stream",
     "text": [
      "100%|██████████| 102/102 [44:18<00:00, 26.06s/it]\n"
     ]
    }
   ],
   "source": [
    "for category in ['Christian Life and Worship', 'Sermons']:\n",
    "    print(f\"\\nIndexing {category}...\")\n",
    "    category_docs[category] = []\n",
    "    temp_index = VectorStoreIndex([], service_context=service_context)\n",
    "    for book in tqdm(books.loc[books['final_bundled_category'] == category, 'filename']):\n",
    "        shutil.copy(f'raw_data/ccel/{book}', 'temp/temp.txt')\n",
    "        title, authors, validation = extract_title_and_creators(f'raw_data/ccel/{book}')\n",
    "        documents = SimpleDirectoryReader('temp').load_data()\n",
    "        for doc in documents:\n",
    "            doc.metadata['title'] = title\n",
    "            doc.metadata['authors'] = authors\n",
    "            category_docs[category].append(doc)\n",
    "            temp_index.insert(doc)\n",
    "    temp_index.storage_context.persist(persist_dir=f'query_engines/{category.lower().replace(\" \", \"_\")}')"
   ]
  },
  {
   "cell_type": "code",
   "execution_count": null,
   "metadata": {},
   "outputs": [],
   "source": []
  }
 ],
 "metadata": {
  "kernelspec": {
   "display_name": "calvinist_parrot",
   "language": "python",
   "name": "python3"
  },
  "language_info": {
   "codemirror_mode": {
    "name": "ipython",
    "version": 3
   },
   "file_extension": ".py",
   "mimetype": "text/x-python",
   "name": "python",
   "nbconvert_exporter": "python",
   "pygments_lexer": "ipython3",
   "version": "3.11.5"
  },
  "orig_nbformat": 4
 },
 "nbformat": 4,
 "nbformat_minor": 2
}
