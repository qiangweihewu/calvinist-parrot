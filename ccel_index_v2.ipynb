{
 "cells": [
  {
   "cell_type": "code",
   "execution_count": 79,
   "metadata": {},
   "outputs": [],
   "source": [
    "from llama_index import (\n",
    "    VectorStoreIndex, \n",
    "    KnowledgeGraphIndex,\n",
    "    SimpleDirectoryReader, \n",
    "    ServiceContext,\n",
    "    LLMPredictor,\n",
    "    set_global_service_context\n",
    ")\n",
    "from llama_index.graph_stores import SimpleGraphStore\n",
    "from llama_index.llms.openai import OpenAI\n",
    "from tqdm import tqdm\n",
    "import time, openai, os, re, shutil, ast\n",
    "import pandas as pd\n",
    "import numpy as np\n",
    "\n",
    "from llama_index.node_parser import SimpleNodeParser\n",
    "\n",
    "# load environment variables\n",
    "from dotenv import load_dotenv\n",
    "load_dotenv()\n",
    "openai.api_key = os.environ.get(\"OPENAI_API_KEY\")\n",
    "\n",
    "os.makedirs('temp', exist_ok=True)\n",
    "os.makedirs('query_engines', exist_ok=True)"
   ]
  },
  {
   "cell_type": "code",
   "execution_count": 80,
   "metadata": {},
   "outputs": [],
   "source": [
    "def extract_title_and_creators(filename):\n",
    "    filename = os.path.join(os.getcwd(), filename)\n",
    "    with open(filename, 'r', encoding='utf-8') as file:\n",
    "        content = file.read()\n",
    "\n",
    "    # Regular expressions to match title and creator(s)\n",
    "    title_pattern = re.compile(r'Title:\\s*(.+?)(?=Creator)', re.MULTILINE | re.DOTALL)\n",
    "    creator_pattern = re.compile(r'Creator\\(s\\):\\s*(.+?)(?=\\n\\s+[A-Z][a-zA-Z]*:|$)', re.MULTILINE | re.DOTALL)\n",
    "\n",
    "    # Regular expression to find instances of \"Image of page 1\" or \"Image of page 2\" etc.\n",
    "    image_pattern = re.compile(r'Image of page \\d+')\n",
    "\n",
    "    # If content has more than 3 instances of \"Image of page 1\" or \"Image of page 2\" etc., then it is not a book\n",
    "    if len(image_pattern.findall(content)) > 3:\n",
    "        return '', '', False\n",
    "    else:\n",
    "        # Extract title and creators from the content\n",
    "        title_match = title_pattern.search(content)\n",
    "        title = title_match.group(1).strip() if title_match else ''\n",
    "        title = [title.strip() for title in title.split('\\n') if title.strip()]\n",
    "        title = ' '.join(title)\n",
    "\n",
    "        creator_match = creator_pattern.search(content)\n",
    "        creators = creator_match.group(1).strip() if creator_match else ''\n",
    "        creators = [creator.strip() for creator in creators.split('\\n') if creator.strip()]\n",
    "        creators = ' - '.join(creators)\n",
    "\n",
    "        return title, creators, True"
   ]
  },
  {
   "cell_type": "code",
   "execution_count": 81,
   "metadata": {},
   "outputs": [],
   "source": [
    "chatgpt = OpenAI(temperature=0, model=\"gpt-3.5-turbo\")\n",
    "service_context = ServiceContext.from_defaults(\n",
    "    chunk_size_limit=1024,\n",
    "    llm=chatgpt\n",
    ")\n",
    "\n",
    "parser = SimpleNodeParser.from_defaults()\n",
    "\n",
    "set_global_service_context(service_context)"
   ]
  },
  {
   "cell_type": "code",
   "execution_count": 82,
   "metadata": {},
   "outputs": [
    {
     "data": {
      "text/html": [
       "<div>\n",
       "<style scoped>\n",
       "    .dataframe tbody tr th:only-of-type {\n",
       "        vertical-align: middle;\n",
       "    }\n",
       "\n",
       "    .dataframe tbody tr th {\n",
       "        vertical-align: top;\n",
       "    }\n",
       "\n",
       "    .dataframe thead th {\n",
       "        text-align: right;\n",
       "    }\n",
       "</style>\n",
       "<table border=\"1\" class=\"dataframe\">\n",
       "  <thead>\n",
       "    <tr style=\"text-align: right;\">\n",
       "      <th></th>\n",
       "      <th>filename</th>\n",
       "      <th>final_bundled_category</th>\n",
       "      <th>title</th>\n",
       "      <th>authors</th>\n",
       "    </tr>\n",
       "  </thead>\n",
       "  <tbody>\n",
       "    <tr>\n",
       "      <th>0</th>\n",
       "      <td>ccel_aaberg_hymnsdenmark.txt</td>\n",
       "      <td>Historical and Biographical Texts</td>\n",
       "      <td>Hymns and Hymnwriters of Denmark</td>\n",
       "      <td>Aaberg, Jens Christian (1877-1970)</td>\n",
       "    </tr>\n",
       "    <tr>\n",
       "      <th>1</th>\n",
       "      <td>ccel_abelard_misfortunes.txt</td>\n",
       "      <td>Christian Biography</td>\n",
       "      <td>Historia Calamitatum: The Story of My Misfortunes</td>\n",
       "      <td>Abelard, Peter</td>\n",
       "    </tr>\n",
       "    <tr>\n",
       "      <th>2</th>\n",
       "      <td>ccel_addison_evidences.txt</td>\n",
       "      <td>Theology and Beliefs</td>\n",
       "      <td>The Evidences of the Christian Religion, with ...</td>\n",
       "      <td>Addison, Joseph (1672-1719)</td>\n",
       "    </tr>\n",
       "    <tr>\n",
       "      <th>3</th>\n",
       "      <td>ccel_adeney_expositoreznehes.txt</td>\n",
       "      <td>Biblical Texts and Commentaries</td>\n",
       "      <td>The Expositor's Bible: Ezra, Nehemiah, and Esther</td>\n",
       "      <td>Adeney, Walter Frederic (1849-1920)</td>\n",
       "    </tr>\n",
       "    <tr>\n",
       "      <th>4</th>\n",
       "      <td>ccel_adeney_expositorsonglament.txt</td>\n",
       "      <td>Biblical Texts and Commentaries</td>\n",
       "      <td>The Expositor's Bible: The Song of Solomon and...</td>\n",
       "      <td>Adeney, Walter Frederic (1849-1920)</td>\n",
       "    </tr>\n",
       "  </tbody>\n",
       "</table>\n",
       "</div>"
      ],
      "text/plain": [
       "                              filename             final_bundled_category  \\\n",
       "0         ccel_aaberg_hymnsdenmark.txt  Historical and Biographical Texts   \n",
       "1         ccel_abelard_misfortunes.txt                Christian Biography   \n",
       "2           ccel_addison_evidences.txt               Theology and Beliefs   \n",
       "3     ccel_adeney_expositoreznehes.txt    Biblical Texts and Commentaries   \n",
       "4  ccel_adeney_expositorsonglament.txt    Biblical Texts and Commentaries   \n",
       "\n",
       "                                               title  \\\n",
       "0                   Hymns and Hymnwriters of Denmark   \n",
       "1  Historia Calamitatum: The Story of My Misfortunes   \n",
       "2  The Evidences of the Christian Religion, with ...   \n",
       "3  The Expositor's Bible: Ezra, Nehemiah, and Esther   \n",
       "4  The Expositor's Bible: The Song of Solomon and...   \n",
       "\n",
       "                               authors  \n",
       "0   Aaberg, Jens Christian (1877-1970)  \n",
       "1                       Abelard, Peter  \n",
       "2          Addison, Joseph (1672-1719)  \n",
       "3  Adeney, Walter Frederic (1849-1920)  \n",
       "4  Adeney, Walter Frederic (1849-1920)  "
      ]
     },
     "execution_count": 82,
     "metadata": {},
     "output_type": "execute_result"
    }
   ],
   "source": [
    "books = pd.read_csv('filename_category.csv')\n",
    "categories = pd.read_csv('category_description.csv')\n",
    "last_index = 0\n",
    "category_docs = {}\n",
    "category_index = {}\n",
    "books.head()"
   ]
  },
  {
   "cell_type": "code",
   "execution_count": 83,
   "metadata": {},
   "outputs": [
    {
     "data": {
      "text/plain": [
       "final_bundled_category\n",
       "Biblical Texts and Commentaries      171\n",
       "Theology and Beliefs                 169\n",
       "Christian Life and Worship           167\n",
       "Reformed Theology                    144\n",
       "Miscellaneous                        140\n",
       "Sermons                              102\n",
       "Theology                              68\n",
       "Historical and Biographical Texts     63\n",
       "Reformed Commentaries                 58\n",
       "Christian Living                      51\n",
       "Christian Fiction                     41\n",
       "Christian Devotional                  12\n",
       "Early Christian Fathers               12\n",
       "Christian Biography                   11\n",
       "Christian Poetry                      11\n",
       "Early Christian Literature            11\n",
       "Systematic Theology                   10\n",
       "Name: count, dtype: int64"
      ]
     },
     "execution_count": 83,
     "metadata": {},
     "output_type": "execute_result"
    }
   ],
   "source": [
    "books['final_bundled_category'].value_counts()"
   ]
  },
  {
   "cell_type": "code",
   "execution_count": 84,
   "metadata": {},
   "outputs": [
    {
     "data": {
      "text/html": [
       "<div>\n",
       "<style scoped>\n",
       "    .dataframe tbody tr th:only-of-type {\n",
       "        vertical-align: middle;\n",
       "    }\n",
       "\n",
       "    .dataframe tbody tr th {\n",
       "        vertical-align: top;\n",
       "    }\n",
       "\n",
       "    .dataframe thead th {\n",
       "        text-align: right;\n",
       "    }\n",
       "</style>\n",
       "<table border=\"1\" class=\"dataframe\">\n",
       "  <thead>\n",
       "    <tr style=\"text-align: right;\">\n",
       "      <th></th>\n",
       "      <th>Category</th>\n",
       "      <th>Description</th>\n",
       "      <th>Example Titles</th>\n",
       "      <th>Frequent Authors</th>\n",
       "    </tr>\n",
       "  </thead>\n",
       "  <tbody>\n",
       "    <tr>\n",
       "      <th>0</th>\n",
       "      <td>Biblical Texts and Commentaries</td>\n",
       "      <td>Books focusing on the interpretation, analysis...</td>\n",
       "      <td>[\"The Expositor's Bible: Ezra, Nehemiah, and E...</td>\n",
       "      <td>['Calvin, John (1509-1564)', 'Robertson, A. T....</td>\n",
       "    </tr>\n",
       "    <tr>\n",
       "      <th>1</th>\n",
       "      <td>Christian Biography</td>\n",
       "      <td>Biographical accounts of notable Christian fig...</td>\n",
       "      <td>['Autobiography of George Fox', 'Entire Sancti...</td>\n",
       "      <td>['Voragine, Jacobus de (1230-1298)', 'Fox, Geo...</td>\n",
       "    </tr>\n",
       "    <tr>\n",
       "      <th>2</th>\n",
       "      <td>Christian Devotional</td>\n",
       "      <td>Books meant for daily Christian reflection, pr...</td>\n",
       "      <td>['A Book of Strife in the Form of the Diary of...</td>\n",
       "      <td>['MacDonald, George (1824-1905)', 'Flavel, Joh...</td>\n",
       "    </tr>\n",
       "    <tr>\n",
       "      <th>3</th>\n",
       "      <td>Christian Fiction</td>\n",
       "      <td>Fictional works that emphasize Christian theme...</td>\n",
       "      <td>[\"The Pilgrim's Progress\", 'The Innocence of F...</td>\n",
       "      <td>['MacDonald, George (1824-1905)', 'Tolstoy, Le...</td>\n",
       "    </tr>\n",
       "    <tr>\n",
       "      <th>4</th>\n",
       "      <td>Christian Life and Worship</td>\n",
       "      <td>Books on Christian practices, worship, and dai...</td>\n",
       "      <td>['What I Saw in America', 'A COLLECTION OF LET...</td>\n",
       "      <td>['Spurgeon, Charles Haddon (1834-1892)', 'Sout...</td>\n",
       "    </tr>\n",
       "    <tr>\n",
       "      <th>5</th>\n",
       "      <td>Christian Living</td>\n",
       "      <td>Guides and reflections on leading a Christian ...</td>\n",
       "      <td>['A Discourse concerning Evangelical Love, Chu...</td>\n",
       "      <td>['Owen, John (1616-1683)', 'Murray, Andrew', '...</td>\n",
       "    </tr>\n",
       "    <tr>\n",
       "      <th>6</th>\n",
       "      <td>Christian Poetry</td>\n",
       "      <td>Poetic works with Christian themes and express...</td>\n",
       "      <td>['Hymns from the Land of Luther', 'Hymns of Te...</td>\n",
       "      <td>['Bevan, Frances', 'Brownlie, John', 'Walker, ...</td>\n",
       "    </tr>\n",
       "    <tr>\n",
       "      <th>7</th>\n",
       "      <td>Early Christian Fathers</td>\n",
       "      <td>Writings from early Christian leaders and theo...</td>\n",
       "      <td>['ECF: Aphrahat: Demonstrations', 'ECF: Eunomi...</td>\n",
       "      <td>['Pearse, Roger', 'Roger Pearse']</td>\n",
       "    </tr>\n",
       "    <tr>\n",
       "      <th>8</th>\n",
       "      <td>Early Christian Literature</td>\n",
       "      <td>Early texts, letters, and documents from the i...</td>\n",
       "      <td>['ANF02. Fathers of the Second Century: Hermas...</td>\n",
       "      <td>['Schaff, Philip (1819-1893) (Editor)', 'Light...</td>\n",
       "    </tr>\n",
       "    <tr>\n",
       "      <th>9</th>\n",
       "      <td>Historical and Biographical Texts</td>\n",
       "      <td>Accounts of Christian history and biographies ...</td>\n",
       "      <td>['Biography of John Owen', 'ECF: Possidius: Li...</td>\n",
       "      <td>['Schaff, Philip (1819-1893)', 'Harnack, Adolf...</td>\n",
       "    </tr>\n",
       "    <tr>\n",
       "      <th>10</th>\n",
       "      <td>Miscellaneous</td>\n",
       "      <td>A diverse collection of Christian texts that d...</td>\n",
       "      <td>['Swiss Family Robinson', \"Easton's Bible Dict...</td>\n",
       "      <td>['Pearse, Roger', 'Chesterton, Gilbert K. (187...</td>\n",
       "    </tr>\n",
       "    <tr>\n",
       "      <th>11</th>\n",
       "      <td>Systematic Theology</td>\n",
       "      <td>Comprehensive exploration of Christian doctrin...</td>\n",
       "      <td>['A Body of Practical Divinity', 'Doctrinal Th...</td>\n",
       "      <td>['Hodge, Charles (1797-1878)', 'Hopkins, Samue...</td>\n",
       "    </tr>\n",
       "    <tr>\n",
       "      <th>12</th>\n",
       "      <td>Theology</td>\n",
       "      <td>In-depth studies and discussions on various th...</td>\n",
       "      <td>['A Brief Declaration and Vindication of The D...</td>\n",
       "      <td>['Owen, John (1616-1683)', 'Schaff, Philip (18...</td>\n",
       "    </tr>\n",
       "    <tr>\n",
       "      <th>13</th>\n",
       "      <td>Theology and Beliefs</td>\n",
       "      <td>Exploration of Christian beliefs, doctrines, a...</td>\n",
       "      <td>['The Evidences of Christianity Briefly Stated...</td>\n",
       "      <td>['Herbermann, Charles George (1840-1916)', 'Ow...</td>\n",
       "    </tr>\n",
       "    <tr>\n",
       "      <th>14</th>\n",
       "      <td>Reformed Commentaries</td>\n",
       "      <td>Reformed books focusing on the interpretation,...</td>\n",
       "      <td>['Harmony of the Law - Volume 3', 'Preface to ...</td>\n",
       "      <td>['Pink, Arthur W.', 'Calvin, Jean', 'Calvin, J...</td>\n",
       "    </tr>\n",
       "    <tr>\n",
       "      <th>15</th>\n",
       "      <td>Reformed Theology</td>\n",
       "      <td>Books from prominent Reformed theologians</td>\n",
       "      <td>['Commentary on Corinthians - Volume 2', 'The ...</td>\n",
       "      <td>['Benson, Louis Fitzgerald', 'Enyclopaedia Bri...</td>\n",
       "    </tr>\n",
       "    <tr>\n",
       "      <th>16</th>\n",
       "      <td>Sermons</td>\n",
       "      <td>Collections of sermons within the CCEL</td>\n",
       "      <td>[\"Spurgeon's Sermons Volume 01: 1855\", \"Spurge...</td>\n",
       "      <td>['Donne, John (1572-1631)', 'Latimer, Hugh (14...</td>\n",
       "    </tr>\n",
       "  </tbody>\n",
       "</table>\n",
       "</div>"
      ],
      "text/plain": [
       "                             Category  \\\n",
       "0     Biblical Texts and Commentaries   \n",
       "1                 Christian Biography   \n",
       "2                Christian Devotional   \n",
       "3                   Christian Fiction   \n",
       "4          Christian Life and Worship   \n",
       "5                    Christian Living   \n",
       "6                    Christian Poetry   \n",
       "7             Early Christian Fathers   \n",
       "8          Early Christian Literature   \n",
       "9   Historical and Biographical Texts   \n",
       "10                      Miscellaneous   \n",
       "11                Systematic Theology   \n",
       "12                           Theology   \n",
       "13               Theology and Beliefs   \n",
       "14              Reformed Commentaries   \n",
       "15                  Reformed Theology   \n",
       "16                            Sermons   \n",
       "\n",
       "                                          Description  \\\n",
       "0   Books focusing on the interpretation, analysis...   \n",
       "1   Biographical accounts of notable Christian fig...   \n",
       "2   Books meant for daily Christian reflection, pr...   \n",
       "3   Fictional works that emphasize Christian theme...   \n",
       "4   Books on Christian practices, worship, and dai...   \n",
       "5   Guides and reflections on leading a Christian ...   \n",
       "6   Poetic works with Christian themes and express...   \n",
       "7   Writings from early Christian leaders and theo...   \n",
       "8   Early texts, letters, and documents from the i...   \n",
       "9   Accounts of Christian history and biographies ...   \n",
       "10  A diverse collection of Christian texts that d...   \n",
       "11  Comprehensive exploration of Christian doctrin...   \n",
       "12  In-depth studies and discussions on various th...   \n",
       "13  Exploration of Christian beliefs, doctrines, a...   \n",
       "14  Reformed books focusing on the interpretation,...   \n",
       "15          Books from prominent Reformed theologians   \n",
       "16             Collections of sermons within the CCEL   \n",
       "\n",
       "                                       Example Titles  \\\n",
       "0   [\"The Expositor's Bible: Ezra, Nehemiah, and E...   \n",
       "1   ['Autobiography of George Fox', 'Entire Sancti...   \n",
       "2   ['A Book of Strife in the Form of the Diary of...   \n",
       "3   [\"The Pilgrim's Progress\", 'The Innocence of F...   \n",
       "4   ['What I Saw in America', 'A COLLECTION OF LET...   \n",
       "5   ['A Discourse concerning Evangelical Love, Chu...   \n",
       "6   ['Hymns from the Land of Luther', 'Hymns of Te...   \n",
       "7   ['ECF: Aphrahat: Demonstrations', 'ECF: Eunomi...   \n",
       "8   ['ANF02. Fathers of the Second Century: Hermas...   \n",
       "9   ['Biography of John Owen', 'ECF: Possidius: Li...   \n",
       "10  ['Swiss Family Robinson', \"Easton's Bible Dict...   \n",
       "11  ['A Body of Practical Divinity', 'Doctrinal Th...   \n",
       "12  ['A Brief Declaration and Vindication of The D...   \n",
       "13  ['The Evidences of Christianity Briefly Stated...   \n",
       "14  ['Harmony of the Law - Volume 3', 'Preface to ...   \n",
       "15  ['Commentary on Corinthians - Volume 2', 'The ...   \n",
       "16  [\"Spurgeon's Sermons Volume 01: 1855\", \"Spurge...   \n",
       "\n",
       "                                     Frequent Authors  \n",
       "0   ['Calvin, John (1509-1564)', 'Robertson, A. T....  \n",
       "1   ['Voragine, Jacobus de (1230-1298)', 'Fox, Geo...  \n",
       "2   ['MacDonald, George (1824-1905)', 'Flavel, Joh...  \n",
       "3   ['MacDonald, George (1824-1905)', 'Tolstoy, Le...  \n",
       "4   ['Spurgeon, Charles Haddon (1834-1892)', 'Sout...  \n",
       "5   ['Owen, John (1616-1683)', 'Murray, Andrew', '...  \n",
       "6   ['Bevan, Frances', 'Brownlie, John', 'Walker, ...  \n",
       "7                   ['Pearse, Roger', 'Roger Pearse']  \n",
       "8   ['Schaff, Philip (1819-1893) (Editor)', 'Light...  \n",
       "9   ['Schaff, Philip (1819-1893)', 'Harnack, Adolf...  \n",
       "10  ['Pearse, Roger', 'Chesterton, Gilbert K. (187...  \n",
       "11  ['Hodge, Charles (1797-1878)', 'Hopkins, Samue...  \n",
       "12  ['Owen, John (1616-1683)', 'Schaff, Philip (18...  \n",
       "13  ['Herbermann, Charles George (1840-1916)', 'Ow...  \n",
       "14  ['Pink, Arthur W.', 'Calvin, Jean', 'Calvin, J...  \n",
       "15  ['Benson, Louis Fitzgerald', 'Enyclopaedia Bri...  \n",
       "16  ['Donne, John (1572-1631)', 'Latimer, Hugh (14...  "
      ]
     },
     "execution_count": 84,
     "metadata": {},
     "output_type": "execute_result"
    }
   ],
   "source": [
    "categories"
   ]
  },
  {
   "cell_type": "code",
   "execution_count": 68,
   "metadata": {},
   "outputs": [],
   "source": [
    "categories.loc[categories['Category'] == 'Sermons', 'Example Titles'] = str(np.random.choice(books.loc[books['final_bundled_category'] == 'Sermons', 'title'].unique(), 3).tolist())\n",
    "categories.loc[categories['Category'] == 'Sermons', 'Frequent Authors'] = str(np.random.choice(books.loc[books['final_bundled_category'] == 'Sermons', 'authors'].unique(), 3).tolist())\n",
    "categories.loc[categories['Category'] == 'Reformed Commentaries', 'Example Titles'] = str(np.random.choice(books.loc[books['final_bundled_category'] == 'Reformed Commentaries', 'title'].unique(), 3).tolist())\n",
    "categories.loc[categories['Category'] == 'Reformed Commentaries', 'Frequent Authors'] = str(np.random.choice(books.loc[books['final_bundled_category'] == 'Reformed Commentaries', 'authors'].unique(), 3).tolist())\n",
    "categories.loc[categories['Category'] == 'Reformed Theology', 'Example Titles'] = str(np.random.choice(books.loc[books['final_bundled_category'] == 'Reformed Theology', 'title'].unique(), 3).tolist())\n",
    "categories.loc[categories['Category'] == 'Reformed Theology', 'Frequent Authors'] = str(np.random.choice(books.loc[books['final_bundled_category'] == 'Reformed Theology', 'authors'].unique(), 3).tolist())"
   ]
  },
  {
   "cell_type": "code",
   "execution_count": 69,
   "metadata": {},
   "outputs": [],
   "source": [
    "categories.to_csv('category_description.csv', index=False)"
   ]
  },
  {
   "cell_type": "code",
   "execution_count": 85,
   "metadata": {},
   "outputs": [],
   "source": [
    "index_summary = []\n",
    "for row in categories.iterrows():\n",
    "    index_summary.append(f\"{row[1]['Description']} - Includes books like {', '.join(ast.literal_eval(row[1]['Example Titles']))} and authors like {', '.join(ast.literal_eval(row[1]['Frequent Authors']))}\")\n",
    "\n",
    "# save index summary to txt file\n",
    "with open('index_summary.txt', 'w', encoding='utf-8') as file:\n",
    "    file.write('\\n'.join(index_summary))"
   ]
  },
  {
   "cell_type": "code",
   "execution_count": 71,
   "metadata": {},
   "outputs": [
    {
     "name": "stdout",
     "output_type": "stream",
     "text": [
      "\n",
      "Indexing Biblical Texts and Commentaries...\n"
     ]
    },
    {
     "name": "stderr",
     "output_type": "stream",
     "text": [
      "  0%|          | 0/171 [00:02<?, ?it/s]\n"
     ]
    },
    {
     "ename": "KeyboardInterrupt",
     "evalue": "",
     "output_type": "error",
     "traceback": [
      "\u001b[1;31m---------------------------------------------------------------------------\u001b[0m",
      "\u001b[1;31mKeyboardInterrupt\u001b[0m                         Traceback (most recent call last)",
      "\u001b[1;32mc:\\Users\\jegam\\Dev\\calvinist-parrot\\ccel_index_v2.ipynb Cell 10\u001b[0m line \u001b[0;36m1\n\u001b[0;32m     <a href='vscode-notebook-cell:/c%3A/Users/jegam/Dev/calvinist-parrot/ccel_index_v2.ipynb#X11sZmlsZQ%3D%3D?line=10'>11</a>\u001b[0m         doc\u001b[39m.\u001b[39mmetadata[\u001b[39m'\u001b[39m\u001b[39mauthors\u001b[39m\u001b[39m'\u001b[39m] \u001b[39m=\u001b[39m authors\n\u001b[0;32m     <a href='vscode-notebook-cell:/c%3A/Users/jegam/Dev/calvinist-parrot/ccel_index_v2.ipynb#X11sZmlsZQ%3D%3D?line=11'>12</a>\u001b[0m         category_docs[category]\u001b[39m.\u001b[39mappend(doc)\n\u001b[1;32m---> <a href='vscode-notebook-cell:/c%3A/Users/jegam/Dev/calvinist-parrot/ccel_index_v2.ipynb#X11sZmlsZQ%3D%3D?line=12'>13</a>\u001b[0m         temp_index\u001b[39m.\u001b[39;49minsert(doc)\n\u001b[0;32m     <a href='vscode-notebook-cell:/c%3A/Users/jegam/Dev/calvinist-parrot/ccel_index_v2.ipynb#X11sZmlsZQ%3D%3D?line=13'>14</a>\u001b[0m temp_index\u001b[39m.\u001b[39mstorage_context\u001b[39m.\u001b[39mpersist(persist_dir\u001b[39m=\u001b[39m\u001b[39mf\u001b[39m\u001b[39m'\u001b[39m\u001b[39mquery_engines/\u001b[39m\u001b[39m{\u001b[39;00mcategory\u001b[39m.\u001b[39mlower()\u001b[39m.\u001b[39mreplace(\u001b[39m\"\u001b[39m\u001b[39m \u001b[39m\u001b[39m\"\u001b[39m,\u001b[39m \u001b[39m\u001b[39m\"\u001b[39m\u001b[39m_\u001b[39m\u001b[39m\"\u001b[39m)\u001b[39m}\u001b[39;00m\u001b[39m'\u001b[39m)\n",
      "File \u001b[1;32mc:\\Users\\jegam\\anaconda3\\envs\\calvinist_parrot\\Lib\\site-packages\\llama_index\\indices\\base.py:190\u001b[0m, in \u001b[0;36mBaseIndex.insert\u001b[1;34m(self, document, **insert_kwargs)\u001b[0m\n\u001b[0;32m    186\u001b[0m \u001b[39mwith\u001b[39;00m \u001b[39mself\u001b[39m\u001b[39m.\u001b[39m_service_context\u001b[39m.\u001b[39mcallback_manager\u001b[39m.\u001b[39mas_trace(\u001b[39m\"\u001b[39m\u001b[39minsert\u001b[39m\u001b[39m\"\u001b[39m):\n\u001b[0;32m    187\u001b[0m     nodes \u001b[39m=\u001b[39m \u001b[39mself\u001b[39m\u001b[39m.\u001b[39mservice_context\u001b[39m.\u001b[39mnode_parser\u001b[39m.\u001b[39mget_nodes_from_documents(\n\u001b[0;32m    188\u001b[0m         [document]\n\u001b[0;32m    189\u001b[0m     )\n\u001b[1;32m--> 190\u001b[0m     \u001b[39mself\u001b[39;49m\u001b[39m.\u001b[39;49minsert_nodes(nodes, \u001b[39m*\u001b[39;49m\u001b[39m*\u001b[39;49minsert_kwargs)\n\u001b[0;32m    191\u001b[0m     \u001b[39mself\u001b[39m\u001b[39m.\u001b[39mdocstore\u001b[39m.\u001b[39mset_document_hash(document\u001b[39m.\u001b[39mget_doc_id(), document\u001b[39m.\u001b[39mhash)\n",
      "File \u001b[1;32mc:\\Users\\jegam\\anaconda3\\envs\\calvinist_parrot\\Lib\\site-packages\\llama_index\\indices\\vector_store\\base.py:278\u001b[0m, in \u001b[0;36mVectorStoreIndex.insert_nodes\u001b[1;34m(self, nodes, **insert_kwargs)\u001b[0m\n\u001b[0;32m    271\u001b[0m \u001b[39mdef\u001b[39;00m \u001b[39minsert_nodes\u001b[39m(\u001b[39mself\u001b[39m, nodes: Sequence[BaseNode], \u001b[39m*\u001b[39m\u001b[39m*\u001b[39minsert_kwargs: Any) \u001b[39m-\u001b[39m\u001b[39m>\u001b[39m \u001b[39mNone\u001b[39;00m:\n\u001b[0;32m    272\u001b[0m \u001b[39m    \u001b[39m\u001b[39m\"\"\"Insert nodes.\u001b[39;00m\n\u001b[0;32m    273\u001b[0m \n\u001b[0;32m    274\u001b[0m \u001b[39m    NOTE: overrides BaseIndex.insert_nodes.\u001b[39;00m\n\u001b[0;32m    275\u001b[0m \u001b[39m        VectorStoreIndex only stores nodes in document store\u001b[39;00m\n\u001b[0;32m    276\u001b[0m \u001b[39m        if vector store does not store text\u001b[39;00m\n\u001b[0;32m    277\u001b[0m \u001b[39m    \"\"\"\u001b[39;00m\n\u001b[1;32m--> 278\u001b[0m     \u001b[39mself\u001b[39;49m\u001b[39m.\u001b[39;49m_insert(nodes, \u001b[39m*\u001b[39;49m\u001b[39m*\u001b[39;49minsert_kwargs)\n\u001b[0;32m    279\u001b[0m     \u001b[39mself\u001b[39m\u001b[39m.\u001b[39m_storage_context\u001b[39m.\u001b[39mindex_store\u001b[39m.\u001b[39madd_index_struct(\u001b[39mself\u001b[39m\u001b[39m.\u001b[39m_index_struct)\n",
      "File \u001b[1;32mc:\\Users\\jegam\\anaconda3\\envs\\calvinist_parrot\\Lib\\site-packages\\llama_index\\indices\\vector_store\\base.py:269\u001b[0m, in \u001b[0;36mVectorStoreIndex._insert\u001b[1;34m(self, nodes, **insert_kwargs)\u001b[0m\n\u001b[0;32m    267\u001b[0m \u001b[39mdef\u001b[39;00m \u001b[39m_insert\u001b[39m(\u001b[39mself\u001b[39m, nodes: Sequence[BaseNode], \u001b[39m*\u001b[39m\u001b[39m*\u001b[39minsert_kwargs: Any) \u001b[39m-\u001b[39m\u001b[39m>\u001b[39m \u001b[39mNone\u001b[39;00m:\n\u001b[0;32m    268\u001b[0m \u001b[39m    \u001b[39m\u001b[39m\"\"\"Insert a document.\"\"\"\u001b[39;00m\n\u001b[1;32m--> 269\u001b[0m     \u001b[39mself\u001b[39;49m\u001b[39m.\u001b[39;49m_add_nodes_to_index(\u001b[39mself\u001b[39;49m\u001b[39m.\u001b[39;49m_index_struct, nodes)\n",
      "File \u001b[1;32mc:\\Users\\jegam\\anaconda3\\envs\\calvinist_parrot\\Lib\\site-packages\\llama_index\\indices\\vector_store\\base.py:213\u001b[0m, in \u001b[0;36mVectorStoreIndex._add_nodes_to_index\u001b[1;34m(self, index_struct, nodes, show_progress)\u001b[0m\n\u001b[0;32m    210\u001b[0m \u001b[39mif\u001b[39;00m \u001b[39mnot\u001b[39;00m nodes:\n\u001b[0;32m    211\u001b[0m     \u001b[39mreturn\u001b[39;00m\n\u001b[1;32m--> 213\u001b[0m nodes \u001b[39m=\u001b[39m \u001b[39mself\u001b[39;49m\u001b[39m.\u001b[39;49m_get_node_with_embedding(nodes, show_progress)\n\u001b[0;32m    214\u001b[0m new_ids \u001b[39m=\u001b[39m \u001b[39mself\u001b[39m\u001b[39m.\u001b[39m_vector_store\u001b[39m.\u001b[39madd(nodes)\n\u001b[0;32m    216\u001b[0m \u001b[39mif\u001b[39;00m \u001b[39mnot\u001b[39;00m \u001b[39mself\u001b[39m\u001b[39m.\u001b[39m_vector_store\u001b[39m.\u001b[39mstores_text \u001b[39mor\u001b[39;00m \u001b[39mself\u001b[39m\u001b[39m.\u001b[39m_store_nodes_override:\n\u001b[0;32m    217\u001b[0m     \u001b[39m# NOTE: if the vector store doesn't store text,\u001b[39;00m\n\u001b[0;32m    218\u001b[0m     \u001b[39m# we need to add the nodes to the index struct and document store\u001b[39;00m\n",
      "File \u001b[1;32mc:\\Users\\jegam\\anaconda3\\envs\\calvinist_parrot\\Lib\\site-packages\\llama_index\\indices\\vector_store\\base.py:111\u001b[0m, in \u001b[0;36mVectorStoreIndex._get_node_with_embedding\u001b[1;34m(self, nodes, show_progress)\u001b[0m\n\u001b[0;32m    105\u001b[0m         id_to_embed_map[n\u001b[39m.\u001b[39mnode_id] \u001b[39m=\u001b[39m n\u001b[39m.\u001b[39membedding\n\u001b[0;32m    107\u001b[0m \u001b[39m# call embedding model to get embeddings\u001b[39;00m\n\u001b[0;32m    108\u001b[0m (\n\u001b[0;32m    109\u001b[0m     result_ids,\n\u001b[0;32m    110\u001b[0m     result_embeddings,\n\u001b[1;32m--> 111\u001b[0m ) \u001b[39m=\u001b[39m \u001b[39mself\u001b[39;49m\u001b[39m.\u001b[39;49m_service_context\u001b[39m.\u001b[39;49membed_model\u001b[39m.\u001b[39;49mget_queued_text_embeddings(show_progress)\n\u001b[0;32m    112\u001b[0m \u001b[39mfor\u001b[39;00m new_id, text_embedding \u001b[39min\u001b[39;00m \u001b[39mzip\u001b[39m(result_ids, result_embeddings):\n\u001b[0;32m    113\u001b[0m     id_to_embed_map[new_id] \u001b[39m=\u001b[39m text_embedding\n",
      "File \u001b[1;32mc:\\Users\\jegam\\anaconda3\\envs\\calvinist_parrot\\Lib\\site-packages\\llama_index\\embeddings\\base.py:223\u001b[0m, in \u001b[0;36mBaseEmbedding.get_queued_text_embeddings\u001b[1;34m(self, show_progress)\u001b[0m\n\u001b[0;32m    221\u001b[0m cur_batch_ids \u001b[39m=\u001b[39m [text_id \u001b[39mfor\u001b[39;00m text_id, _ \u001b[39min\u001b[39;00m cur_batch]\n\u001b[0;32m    222\u001b[0m cur_batch_texts \u001b[39m=\u001b[39m [text \u001b[39mfor\u001b[39;00m _, text \u001b[39min\u001b[39;00m cur_batch]\n\u001b[1;32m--> 223\u001b[0m embeddings \u001b[39m=\u001b[39m \u001b[39mself\u001b[39;49m\u001b[39m.\u001b[39;49m_get_text_embeddings(cur_batch_texts)\n\u001b[0;32m    224\u001b[0m result_ids\u001b[39m.\u001b[39mextend(cur_batch_ids)\n\u001b[0;32m    225\u001b[0m result_embeddings\u001b[39m.\u001b[39mextend(embeddings)\n",
      "File \u001b[1;32mc:\\Users\\jegam\\anaconda3\\envs\\calvinist_parrot\\Lib\\site-packages\\llama_index\\embeddings\\openai.py:314\u001b[0m, in \u001b[0;36mOpenAIEmbedding._get_text_embeddings\u001b[1;34m(self, texts)\u001b[0m\n\u001b[0;32m    307\u001b[0m \u001b[39mdef\u001b[39;00m \u001b[39m_get_text_embeddings\u001b[39m(\u001b[39mself\u001b[39m, texts: List[\u001b[39mstr\u001b[39m]) \u001b[39m-\u001b[39m\u001b[39m>\u001b[39m List[List[\u001b[39mfloat\u001b[39m]]:\n\u001b[0;32m    308\u001b[0m \u001b[39m    \u001b[39m\u001b[39m\"\"\"Get text embeddings.\u001b[39;00m\n\u001b[0;32m    309\u001b[0m \n\u001b[0;32m    310\u001b[0m \u001b[39m    By default, this is a wrapper around _get_text_embedding.\u001b[39;00m\n\u001b[0;32m    311\u001b[0m \u001b[39m    Can be overriden for batch queries.\u001b[39;00m\n\u001b[0;32m    312\u001b[0m \n\u001b[0;32m    313\u001b[0m \u001b[39m    \"\"\"\u001b[39;00m\n\u001b[1;32m--> 314\u001b[0m     \u001b[39mreturn\u001b[39;00m get_embeddings(\n\u001b[0;32m    315\u001b[0m         texts,\n\u001b[0;32m    316\u001b[0m         engine\u001b[39m=\u001b[39;49m\u001b[39mself\u001b[39;49m\u001b[39m.\u001b[39;49m_text_engine,\n\u001b[0;32m    317\u001b[0m         deployment_id\u001b[39m=\u001b[39;49m\u001b[39mself\u001b[39;49m\u001b[39m.\u001b[39;49mdeployment_name,\n\u001b[0;32m    318\u001b[0m         \u001b[39m*\u001b[39;49m\u001b[39m*\u001b[39;49m\u001b[39mself\u001b[39;49m\u001b[39m.\u001b[39;49mopenai_kwargs,\n\u001b[0;32m    319\u001b[0m     )\n",
      "File \u001b[1;32mc:\\Users\\jegam\\anaconda3\\envs\\calvinist_parrot\\Lib\\site-packages\\tenacity\\__init__.py:289\u001b[0m, in \u001b[0;36mBaseRetrying.wraps.<locals>.wrapped_f\u001b[1;34m(*args, **kw)\u001b[0m\n\u001b[0;32m    287\u001b[0m \u001b[39m@functools\u001b[39m\u001b[39m.\u001b[39mwraps(f)\n\u001b[0;32m    288\u001b[0m \u001b[39mdef\u001b[39;00m \u001b[39mwrapped_f\u001b[39m(\u001b[39m*\u001b[39margs: t\u001b[39m.\u001b[39mAny, \u001b[39m*\u001b[39m\u001b[39m*\u001b[39mkw: t\u001b[39m.\u001b[39mAny) \u001b[39m-\u001b[39m\u001b[39m>\u001b[39m t\u001b[39m.\u001b[39mAny:\n\u001b[1;32m--> 289\u001b[0m     \u001b[39mreturn\u001b[39;00m \u001b[39mself\u001b[39;49m(f, \u001b[39m*\u001b[39;49margs, \u001b[39m*\u001b[39;49m\u001b[39m*\u001b[39;49mkw)\n",
      "File \u001b[1;32mc:\\Users\\jegam\\anaconda3\\envs\\calvinist_parrot\\Lib\\site-packages\\tenacity\\__init__.py:379\u001b[0m, in \u001b[0;36mRetrying.__call__\u001b[1;34m(self, fn, *args, **kwargs)\u001b[0m\n\u001b[0;32m    377\u001b[0m retry_state \u001b[39m=\u001b[39m RetryCallState(retry_object\u001b[39m=\u001b[39m\u001b[39mself\u001b[39m, fn\u001b[39m=\u001b[39mfn, args\u001b[39m=\u001b[39margs, kwargs\u001b[39m=\u001b[39mkwargs)\n\u001b[0;32m    378\u001b[0m \u001b[39mwhile\u001b[39;00m \u001b[39mTrue\u001b[39;00m:\n\u001b[1;32m--> 379\u001b[0m     do \u001b[39m=\u001b[39m \u001b[39mself\u001b[39;49m\u001b[39m.\u001b[39;49miter(retry_state\u001b[39m=\u001b[39;49mretry_state)\n\u001b[0;32m    380\u001b[0m     \u001b[39mif\u001b[39;00m \u001b[39misinstance\u001b[39m(do, DoAttempt):\n\u001b[0;32m    381\u001b[0m         \u001b[39mtry\u001b[39;00m:\n",
      "File \u001b[1;32mc:\\Users\\jegam\\anaconda3\\envs\\calvinist_parrot\\Lib\\site-packages\\tenacity\\__init__.py:314\u001b[0m, in \u001b[0;36mBaseRetrying.iter\u001b[1;34m(self, retry_state)\u001b[0m\n\u001b[0;32m    312\u001b[0m is_explicit_retry \u001b[39m=\u001b[39m fut\u001b[39m.\u001b[39mfailed \u001b[39mand\u001b[39;00m \u001b[39misinstance\u001b[39m(fut\u001b[39m.\u001b[39mexception(), TryAgain)\n\u001b[0;32m    313\u001b[0m \u001b[39mif\u001b[39;00m \u001b[39mnot\u001b[39;00m (is_explicit_retry \u001b[39mor\u001b[39;00m \u001b[39mself\u001b[39m\u001b[39m.\u001b[39mretry(retry_state)):\n\u001b[1;32m--> 314\u001b[0m     \u001b[39mreturn\u001b[39;00m fut\u001b[39m.\u001b[39;49mresult()\n\u001b[0;32m    316\u001b[0m \u001b[39mif\u001b[39;00m \u001b[39mself\u001b[39m\u001b[39m.\u001b[39mafter \u001b[39mis\u001b[39;00m \u001b[39mnot\u001b[39;00m \u001b[39mNone\u001b[39;00m:\n\u001b[0;32m    317\u001b[0m     \u001b[39mself\u001b[39m\u001b[39m.\u001b[39mafter(retry_state)\n",
      "File \u001b[1;32mc:\\Users\\jegam\\anaconda3\\envs\\calvinist_parrot\\Lib\\concurrent\\futures\\_base.py:449\u001b[0m, in \u001b[0;36mFuture.result\u001b[1;34m(self, timeout)\u001b[0m\n\u001b[0;32m    447\u001b[0m     \u001b[39mraise\u001b[39;00m CancelledError()\n\u001b[0;32m    448\u001b[0m \u001b[39melif\u001b[39;00m \u001b[39mself\u001b[39m\u001b[39m.\u001b[39m_state \u001b[39m==\u001b[39m FINISHED:\n\u001b[1;32m--> 449\u001b[0m     \u001b[39mreturn\u001b[39;00m \u001b[39mself\u001b[39;49m\u001b[39m.\u001b[39;49m__get_result()\n\u001b[0;32m    451\u001b[0m \u001b[39mself\u001b[39m\u001b[39m.\u001b[39m_condition\u001b[39m.\u001b[39mwait(timeout)\n\u001b[0;32m    453\u001b[0m \u001b[39mif\u001b[39;00m \u001b[39mself\u001b[39m\u001b[39m.\u001b[39m_state \u001b[39min\u001b[39;00m [CANCELLED, CANCELLED_AND_NOTIFIED]:\n",
      "File \u001b[1;32mc:\\Users\\jegam\\anaconda3\\envs\\calvinist_parrot\\Lib\\concurrent\\futures\\_base.py:401\u001b[0m, in \u001b[0;36mFuture.__get_result\u001b[1;34m(self)\u001b[0m\n\u001b[0;32m    399\u001b[0m \u001b[39mif\u001b[39;00m \u001b[39mself\u001b[39m\u001b[39m.\u001b[39m_exception:\n\u001b[0;32m    400\u001b[0m     \u001b[39mtry\u001b[39;00m:\n\u001b[1;32m--> 401\u001b[0m         \u001b[39mraise\u001b[39;00m \u001b[39mself\u001b[39m\u001b[39m.\u001b[39m_exception\n\u001b[0;32m    402\u001b[0m     \u001b[39mfinally\u001b[39;00m:\n\u001b[0;32m    403\u001b[0m         \u001b[39m# Break a reference cycle with the exception in self._exception\u001b[39;00m\n\u001b[0;32m    404\u001b[0m         \u001b[39mself\u001b[39m \u001b[39m=\u001b[39m \u001b[39mNone\u001b[39;00m\n",
      "File \u001b[1;32mc:\\Users\\jegam\\anaconda3\\envs\\calvinist_parrot\\Lib\\site-packages\\tenacity\\__init__.py:382\u001b[0m, in \u001b[0;36mRetrying.__call__\u001b[1;34m(self, fn, *args, **kwargs)\u001b[0m\n\u001b[0;32m    380\u001b[0m \u001b[39mif\u001b[39;00m \u001b[39misinstance\u001b[39m(do, DoAttempt):\n\u001b[0;32m    381\u001b[0m     \u001b[39mtry\u001b[39;00m:\n\u001b[1;32m--> 382\u001b[0m         result \u001b[39m=\u001b[39m fn(\u001b[39m*\u001b[39;49margs, \u001b[39m*\u001b[39;49m\u001b[39m*\u001b[39;49mkwargs)\n\u001b[0;32m    383\u001b[0m     \u001b[39mexcept\u001b[39;00m \u001b[39mBaseException\u001b[39;00m:  \u001b[39m# noqa: B902\u001b[39;00m\n\u001b[0;32m    384\u001b[0m         retry_state\u001b[39m.\u001b[39mset_exception(sys\u001b[39m.\u001b[39mexc_info())  \u001b[39m# type: ignore[arg-type]\u001b[39;00m\n",
      "File \u001b[1;32mc:\\Users\\jegam\\anaconda3\\envs\\calvinist_parrot\\Lib\\site-packages\\llama_index\\embeddings\\openai.py:166\u001b[0m, in \u001b[0;36mget_embeddings\u001b[1;34m(list_of_text, engine, **kwargs)\u001b[0m\n\u001b[0;32m    162\u001b[0m \u001b[39massert\u001b[39;00m \u001b[39mlen\u001b[39m(list_of_text) \u001b[39m<\u001b[39m\u001b[39m=\u001b[39m \u001b[39m2048\u001b[39m, \u001b[39m\"\u001b[39m\u001b[39mThe batch size should not be larger than 2048.\u001b[39m\u001b[39m\"\u001b[39m\n\u001b[0;32m    164\u001b[0m list_of_text \u001b[39m=\u001b[39m [text\u001b[39m.\u001b[39mreplace(\u001b[39m\"\u001b[39m\u001b[39m\\n\u001b[39;00m\u001b[39m\"\u001b[39m, \u001b[39m\"\u001b[39m\u001b[39m \u001b[39m\u001b[39m\"\u001b[39m) \u001b[39mfor\u001b[39;00m text \u001b[39min\u001b[39;00m list_of_text]\n\u001b[1;32m--> 166\u001b[0m data \u001b[39m=\u001b[39m openai\u001b[39m.\u001b[39;49mEmbedding\u001b[39m.\u001b[39;49mcreate(\u001b[39minput\u001b[39;49m\u001b[39m=\u001b[39;49mlist_of_text, model\u001b[39m=\u001b[39;49mengine, \u001b[39m*\u001b[39;49m\u001b[39m*\u001b[39;49mkwargs)\u001b[39m.\u001b[39mdata\n\u001b[0;32m    167\u001b[0m \u001b[39mreturn\u001b[39;00m [d[\u001b[39m\"\u001b[39m\u001b[39membedding\u001b[39m\u001b[39m\"\u001b[39m] \u001b[39mfor\u001b[39;00m d \u001b[39min\u001b[39;00m data]\n",
      "File \u001b[1;32mc:\\Users\\jegam\\anaconda3\\envs\\calvinist_parrot\\Lib\\site-packages\\openai\\api_resources\\embedding.py:33\u001b[0m, in \u001b[0;36mEmbedding.create\u001b[1;34m(cls, *args, **kwargs)\u001b[0m\n\u001b[0;32m     31\u001b[0m \u001b[39mwhile\u001b[39;00m \u001b[39mTrue\u001b[39;00m:\n\u001b[0;32m     32\u001b[0m     \u001b[39mtry\u001b[39;00m:\n\u001b[1;32m---> 33\u001b[0m         response \u001b[39m=\u001b[39m \u001b[39msuper\u001b[39;49m()\u001b[39m.\u001b[39;49mcreate(\u001b[39m*\u001b[39;49margs, \u001b[39m*\u001b[39;49m\u001b[39m*\u001b[39;49mkwargs)\n\u001b[0;32m     35\u001b[0m         \u001b[39m# If a user specifies base64, we'll just return the encoded string.\u001b[39;00m\n\u001b[0;32m     36\u001b[0m         \u001b[39m# This is only for the default case.\u001b[39;00m\n\u001b[0;32m     37\u001b[0m         \u001b[39mif\u001b[39;00m \u001b[39mnot\u001b[39;00m user_provided_encoding_format:\n",
      "File \u001b[1;32mc:\\Users\\jegam\\anaconda3\\envs\\calvinist_parrot\\Lib\\site-packages\\openai\\api_resources\\abstract\\engine_api_resource.py:153\u001b[0m, in \u001b[0;36mEngineAPIResource.create\u001b[1;34m(cls, api_key, api_base, api_type, request_id, api_version, organization, **params)\u001b[0m\n\u001b[0;32m    127\u001b[0m \u001b[39m@classmethod\u001b[39m\n\u001b[0;32m    128\u001b[0m \u001b[39mdef\u001b[39;00m \u001b[39mcreate\u001b[39m(\n\u001b[0;32m    129\u001b[0m     \u001b[39mcls\u001b[39m,\n\u001b[1;32m   (...)\u001b[0m\n\u001b[0;32m    136\u001b[0m     \u001b[39m*\u001b[39m\u001b[39m*\u001b[39mparams,\n\u001b[0;32m    137\u001b[0m ):\n\u001b[0;32m    138\u001b[0m     (\n\u001b[0;32m    139\u001b[0m         deployment_id,\n\u001b[0;32m    140\u001b[0m         engine,\n\u001b[1;32m   (...)\u001b[0m\n\u001b[0;32m    150\u001b[0m         api_key, api_base, api_type, api_version, organization, \u001b[39m*\u001b[39m\u001b[39m*\u001b[39mparams\n\u001b[0;32m    151\u001b[0m     )\n\u001b[1;32m--> 153\u001b[0m     response, _, api_key \u001b[39m=\u001b[39m requestor\u001b[39m.\u001b[39;49mrequest(\n\u001b[0;32m    154\u001b[0m         \u001b[39m\"\u001b[39;49m\u001b[39mpost\u001b[39;49m\u001b[39m\"\u001b[39;49m,\n\u001b[0;32m    155\u001b[0m         url,\n\u001b[0;32m    156\u001b[0m         params\u001b[39m=\u001b[39;49mparams,\n\u001b[0;32m    157\u001b[0m         headers\u001b[39m=\u001b[39;49mheaders,\n\u001b[0;32m    158\u001b[0m         stream\u001b[39m=\u001b[39;49mstream,\n\u001b[0;32m    159\u001b[0m         request_id\u001b[39m=\u001b[39;49mrequest_id,\n\u001b[0;32m    160\u001b[0m         request_timeout\u001b[39m=\u001b[39;49mrequest_timeout,\n\u001b[0;32m    161\u001b[0m     )\n\u001b[0;32m    163\u001b[0m     \u001b[39mif\u001b[39;00m stream:\n\u001b[0;32m    164\u001b[0m         \u001b[39m# must be an iterator\u001b[39;00m\n\u001b[0;32m    165\u001b[0m         \u001b[39massert\u001b[39;00m \u001b[39mnot\u001b[39;00m \u001b[39misinstance\u001b[39m(response, OpenAIResponse)\n",
      "File \u001b[1;32mc:\\Users\\jegam\\anaconda3\\envs\\calvinist_parrot\\Lib\\site-packages\\openai\\api_requestor.py:288\u001b[0m, in \u001b[0;36mAPIRequestor.request\u001b[1;34m(self, method, url, params, headers, files, stream, request_id, request_timeout)\u001b[0m\n\u001b[0;32m    277\u001b[0m \u001b[39mdef\u001b[39;00m \u001b[39mrequest\u001b[39m(\n\u001b[0;32m    278\u001b[0m     \u001b[39mself\u001b[39m,\n\u001b[0;32m    279\u001b[0m     method,\n\u001b[1;32m   (...)\u001b[0m\n\u001b[0;32m    286\u001b[0m     request_timeout: Optional[Union[\u001b[39mfloat\u001b[39m, Tuple[\u001b[39mfloat\u001b[39m, \u001b[39mfloat\u001b[39m]]] \u001b[39m=\u001b[39m \u001b[39mNone\u001b[39;00m,\n\u001b[0;32m    287\u001b[0m ) \u001b[39m-\u001b[39m\u001b[39m>\u001b[39m Tuple[Union[OpenAIResponse, Iterator[OpenAIResponse]], \u001b[39mbool\u001b[39m, \u001b[39mstr\u001b[39m]:\n\u001b[1;32m--> 288\u001b[0m     result \u001b[39m=\u001b[39m \u001b[39mself\u001b[39;49m\u001b[39m.\u001b[39;49mrequest_raw(\n\u001b[0;32m    289\u001b[0m         method\u001b[39m.\u001b[39;49mlower(),\n\u001b[0;32m    290\u001b[0m         url,\n\u001b[0;32m    291\u001b[0m         params\u001b[39m=\u001b[39;49mparams,\n\u001b[0;32m    292\u001b[0m         supplied_headers\u001b[39m=\u001b[39;49mheaders,\n\u001b[0;32m    293\u001b[0m         files\u001b[39m=\u001b[39;49mfiles,\n\u001b[0;32m    294\u001b[0m         stream\u001b[39m=\u001b[39;49mstream,\n\u001b[0;32m    295\u001b[0m         request_id\u001b[39m=\u001b[39;49mrequest_id,\n\u001b[0;32m    296\u001b[0m         request_timeout\u001b[39m=\u001b[39;49mrequest_timeout,\n\u001b[0;32m    297\u001b[0m     )\n\u001b[0;32m    298\u001b[0m     resp, got_stream \u001b[39m=\u001b[39m \u001b[39mself\u001b[39m\u001b[39m.\u001b[39m_interpret_response(result, stream)\n\u001b[0;32m    299\u001b[0m     \u001b[39mreturn\u001b[39;00m resp, got_stream, \u001b[39mself\u001b[39m\u001b[39m.\u001b[39mapi_key\n",
      "File \u001b[1;32mc:\\Users\\jegam\\anaconda3\\envs\\calvinist_parrot\\Lib\\site-packages\\openai\\api_requestor.py:596\u001b[0m, in \u001b[0;36mAPIRequestor.request_raw\u001b[1;34m(self, method, url, params, supplied_headers, files, stream, request_id, request_timeout)\u001b[0m\n\u001b[0;32m    594\u001b[0m     _thread_context\u001b[39m.\u001b[39msession_create_time \u001b[39m=\u001b[39m time\u001b[39m.\u001b[39mtime()\n\u001b[0;32m    595\u001b[0m \u001b[39mtry\u001b[39;00m:\n\u001b[1;32m--> 596\u001b[0m     result \u001b[39m=\u001b[39m _thread_context\u001b[39m.\u001b[39;49msession\u001b[39m.\u001b[39;49mrequest(\n\u001b[0;32m    597\u001b[0m         method,\n\u001b[0;32m    598\u001b[0m         abs_url,\n\u001b[0;32m    599\u001b[0m         headers\u001b[39m=\u001b[39;49mheaders,\n\u001b[0;32m    600\u001b[0m         data\u001b[39m=\u001b[39;49mdata,\n\u001b[0;32m    601\u001b[0m         files\u001b[39m=\u001b[39;49mfiles,\n\u001b[0;32m    602\u001b[0m         stream\u001b[39m=\u001b[39;49mstream,\n\u001b[0;32m    603\u001b[0m         timeout\u001b[39m=\u001b[39;49mrequest_timeout \u001b[39mif\u001b[39;49;00m request_timeout \u001b[39melse\u001b[39;49;00m TIMEOUT_SECS,\n\u001b[0;32m    604\u001b[0m         proxies\u001b[39m=\u001b[39;49m_thread_context\u001b[39m.\u001b[39;49msession\u001b[39m.\u001b[39;49mproxies,\n\u001b[0;32m    605\u001b[0m     )\n\u001b[0;32m    606\u001b[0m \u001b[39mexcept\u001b[39;00m requests\u001b[39m.\u001b[39mexceptions\u001b[39m.\u001b[39mTimeout \u001b[39mas\u001b[39;00m e:\n\u001b[0;32m    607\u001b[0m     \u001b[39mraise\u001b[39;00m error\u001b[39m.\u001b[39mTimeout(\u001b[39m\"\u001b[39m\u001b[39mRequest timed out: \u001b[39m\u001b[39m{}\u001b[39;00m\u001b[39m\"\u001b[39m\u001b[39m.\u001b[39mformat(e)) \u001b[39mfrom\u001b[39;00m \u001b[39me\u001b[39;00m\n",
      "File \u001b[1;32mc:\\Users\\jegam\\anaconda3\\envs\\calvinist_parrot\\Lib\\site-packages\\requests\\sessions.py:589\u001b[0m, in \u001b[0;36mSession.request\u001b[1;34m(self, method, url, params, data, headers, cookies, files, auth, timeout, allow_redirects, proxies, hooks, stream, verify, cert, json)\u001b[0m\n\u001b[0;32m    584\u001b[0m send_kwargs \u001b[39m=\u001b[39m {\n\u001b[0;32m    585\u001b[0m     \u001b[39m\"\u001b[39m\u001b[39mtimeout\u001b[39m\u001b[39m\"\u001b[39m: timeout,\n\u001b[0;32m    586\u001b[0m     \u001b[39m\"\u001b[39m\u001b[39mallow_redirects\u001b[39m\u001b[39m\"\u001b[39m: allow_redirects,\n\u001b[0;32m    587\u001b[0m }\n\u001b[0;32m    588\u001b[0m send_kwargs\u001b[39m.\u001b[39mupdate(settings)\n\u001b[1;32m--> 589\u001b[0m resp \u001b[39m=\u001b[39m \u001b[39mself\u001b[39;49m\u001b[39m.\u001b[39;49msend(prep, \u001b[39m*\u001b[39;49m\u001b[39m*\u001b[39;49msend_kwargs)\n\u001b[0;32m    591\u001b[0m \u001b[39mreturn\u001b[39;00m resp\n",
      "File \u001b[1;32mc:\\Users\\jegam\\anaconda3\\envs\\calvinist_parrot\\Lib\\site-packages\\requests\\sessions.py:703\u001b[0m, in \u001b[0;36mSession.send\u001b[1;34m(self, request, **kwargs)\u001b[0m\n\u001b[0;32m    700\u001b[0m start \u001b[39m=\u001b[39m preferred_clock()\n\u001b[0;32m    702\u001b[0m \u001b[39m# Send the request\u001b[39;00m\n\u001b[1;32m--> 703\u001b[0m r \u001b[39m=\u001b[39m adapter\u001b[39m.\u001b[39;49msend(request, \u001b[39m*\u001b[39;49m\u001b[39m*\u001b[39;49mkwargs)\n\u001b[0;32m    705\u001b[0m \u001b[39m# Total elapsed time of the request (approximately)\u001b[39;00m\n\u001b[0;32m    706\u001b[0m elapsed \u001b[39m=\u001b[39m preferred_clock() \u001b[39m-\u001b[39m start\n",
      "File \u001b[1;32mc:\\Users\\jegam\\anaconda3\\envs\\calvinist_parrot\\Lib\\site-packages\\requests\\adapters.py:486\u001b[0m, in \u001b[0;36mHTTPAdapter.send\u001b[1;34m(self, request, stream, timeout, verify, cert, proxies)\u001b[0m\n\u001b[0;32m    483\u001b[0m     timeout \u001b[39m=\u001b[39m TimeoutSauce(connect\u001b[39m=\u001b[39mtimeout, read\u001b[39m=\u001b[39mtimeout)\n\u001b[0;32m    485\u001b[0m \u001b[39mtry\u001b[39;00m:\n\u001b[1;32m--> 486\u001b[0m     resp \u001b[39m=\u001b[39m conn\u001b[39m.\u001b[39;49murlopen(\n\u001b[0;32m    487\u001b[0m         method\u001b[39m=\u001b[39;49mrequest\u001b[39m.\u001b[39;49mmethod,\n\u001b[0;32m    488\u001b[0m         url\u001b[39m=\u001b[39;49murl,\n\u001b[0;32m    489\u001b[0m         body\u001b[39m=\u001b[39;49mrequest\u001b[39m.\u001b[39;49mbody,\n\u001b[0;32m    490\u001b[0m         headers\u001b[39m=\u001b[39;49mrequest\u001b[39m.\u001b[39;49mheaders,\n\u001b[0;32m    491\u001b[0m         redirect\u001b[39m=\u001b[39;49m\u001b[39mFalse\u001b[39;49;00m,\n\u001b[0;32m    492\u001b[0m         assert_same_host\u001b[39m=\u001b[39;49m\u001b[39mFalse\u001b[39;49;00m,\n\u001b[0;32m    493\u001b[0m         preload_content\u001b[39m=\u001b[39;49m\u001b[39mFalse\u001b[39;49;00m,\n\u001b[0;32m    494\u001b[0m         decode_content\u001b[39m=\u001b[39;49m\u001b[39mFalse\u001b[39;49;00m,\n\u001b[0;32m    495\u001b[0m         retries\u001b[39m=\u001b[39;49m\u001b[39mself\u001b[39;49m\u001b[39m.\u001b[39;49mmax_retries,\n\u001b[0;32m    496\u001b[0m         timeout\u001b[39m=\u001b[39;49mtimeout,\n\u001b[0;32m    497\u001b[0m         chunked\u001b[39m=\u001b[39;49mchunked,\n\u001b[0;32m    498\u001b[0m     )\n\u001b[0;32m    500\u001b[0m \u001b[39mexcept\u001b[39;00m (ProtocolError, \u001b[39mOSError\u001b[39;00m) \u001b[39mas\u001b[39;00m err:\n\u001b[0;32m    501\u001b[0m     \u001b[39mraise\u001b[39;00m \u001b[39mConnectionError\u001b[39;00m(err, request\u001b[39m=\u001b[39mrequest)\n",
      "File \u001b[1;32mc:\\Users\\jegam\\anaconda3\\envs\\calvinist_parrot\\Lib\\site-packages\\urllib3\\connectionpool.py:714\u001b[0m, in \u001b[0;36mHTTPConnectionPool.urlopen\u001b[1;34m(self, method, url, body, headers, retries, redirect, assert_same_host, timeout, pool_timeout, release_conn, chunked, body_pos, **response_kw)\u001b[0m\n\u001b[0;32m    711\u001b[0m     \u001b[39mself\u001b[39m\u001b[39m.\u001b[39m_prepare_proxy(conn)\n\u001b[0;32m    713\u001b[0m \u001b[39m# Make the request on the httplib connection object.\u001b[39;00m\n\u001b[1;32m--> 714\u001b[0m httplib_response \u001b[39m=\u001b[39m \u001b[39mself\u001b[39;49m\u001b[39m.\u001b[39;49m_make_request(\n\u001b[0;32m    715\u001b[0m     conn,\n\u001b[0;32m    716\u001b[0m     method,\n\u001b[0;32m    717\u001b[0m     url,\n\u001b[0;32m    718\u001b[0m     timeout\u001b[39m=\u001b[39;49mtimeout_obj,\n\u001b[0;32m    719\u001b[0m     body\u001b[39m=\u001b[39;49mbody,\n\u001b[0;32m    720\u001b[0m     headers\u001b[39m=\u001b[39;49mheaders,\n\u001b[0;32m    721\u001b[0m     chunked\u001b[39m=\u001b[39;49mchunked,\n\u001b[0;32m    722\u001b[0m )\n\u001b[0;32m    724\u001b[0m \u001b[39m# If we're going to release the connection in ``finally:``, then\u001b[39;00m\n\u001b[0;32m    725\u001b[0m \u001b[39m# the response doesn't need to know about the connection. Otherwise\u001b[39;00m\n\u001b[0;32m    726\u001b[0m \u001b[39m# it will also try to release it and we'll have a double-release\u001b[39;00m\n\u001b[0;32m    727\u001b[0m \u001b[39m# mess.\u001b[39;00m\n\u001b[0;32m    728\u001b[0m response_conn \u001b[39m=\u001b[39m conn \u001b[39mif\u001b[39;00m \u001b[39mnot\u001b[39;00m release_conn \u001b[39melse\u001b[39;00m \u001b[39mNone\u001b[39;00m\n",
      "File \u001b[1;32mc:\\Users\\jegam\\anaconda3\\envs\\calvinist_parrot\\Lib\\site-packages\\urllib3\\connectionpool.py:466\u001b[0m, in \u001b[0;36mHTTPConnectionPool._make_request\u001b[1;34m(self, conn, method, url, timeout, chunked, **httplib_request_kw)\u001b[0m\n\u001b[0;32m    461\u001b[0m             httplib_response \u001b[39m=\u001b[39m conn\u001b[39m.\u001b[39mgetresponse()\n\u001b[0;32m    462\u001b[0m         \u001b[39mexcept\u001b[39;00m \u001b[39mBaseException\u001b[39;00m \u001b[39mas\u001b[39;00m e:\n\u001b[0;32m    463\u001b[0m             \u001b[39m# Remove the TypeError from the exception chain in\u001b[39;00m\n\u001b[0;32m    464\u001b[0m             \u001b[39m# Python 3 (including for exceptions like SystemExit).\u001b[39;00m\n\u001b[0;32m    465\u001b[0m             \u001b[39m# Otherwise it looks like a bug in the code.\u001b[39;00m\n\u001b[1;32m--> 466\u001b[0m             six\u001b[39m.\u001b[39;49mraise_from(e, \u001b[39mNone\u001b[39;49;00m)\n\u001b[0;32m    467\u001b[0m \u001b[39mexcept\u001b[39;00m (SocketTimeout, BaseSSLError, SocketError) \u001b[39mas\u001b[39;00m e:\n\u001b[0;32m    468\u001b[0m     \u001b[39mself\u001b[39m\u001b[39m.\u001b[39m_raise_timeout(err\u001b[39m=\u001b[39me, url\u001b[39m=\u001b[39murl, timeout_value\u001b[39m=\u001b[39mread_timeout)\n",
      "File \u001b[1;32m<string>:3\u001b[0m, in \u001b[0;36mraise_from\u001b[1;34m(value, from_value)\u001b[0m\n",
      "File \u001b[1;32mc:\\Users\\jegam\\anaconda3\\envs\\calvinist_parrot\\Lib\\site-packages\\urllib3\\connectionpool.py:461\u001b[0m, in \u001b[0;36mHTTPConnectionPool._make_request\u001b[1;34m(self, conn, method, url, timeout, chunked, **httplib_request_kw)\u001b[0m\n\u001b[0;32m    458\u001b[0m \u001b[39mexcept\u001b[39;00m \u001b[39mTypeError\u001b[39;00m:\n\u001b[0;32m    459\u001b[0m     \u001b[39m# Python 3\u001b[39;00m\n\u001b[0;32m    460\u001b[0m     \u001b[39mtry\u001b[39;00m:\n\u001b[1;32m--> 461\u001b[0m         httplib_response \u001b[39m=\u001b[39m conn\u001b[39m.\u001b[39;49mgetresponse()\n\u001b[0;32m    462\u001b[0m     \u001b[39mexcept\u001b[39;00m \u001b[39mBaseException\u001b[39;00m \u001b[39mas\u001b[39;00m e:\n\u001b[0;32m    463\u001b[0m         \u001b[39m# Remove the TypeError from the exception chain in\u001b[39;00m\n\u001b[0;32m    464\u001b[0m         \u001b[39m# Python 3 (including for exceptions like SystemExit).\u001b[39;00m\n\u001b[0;32m    465\u001b[0m         \u001b[39m# Otherwise it looks like a bug in the code.\u001b[39;00m\n\u001b[0;32m    466\u001b[0m         six\u001b[39m.\u001b[39mraise_from(e, \u001b[39mNone\u001b[39;00m)\n",
      "File \u001b[1;32mc:\\Users\\jegam\\anaconda3\\envs\\calvinist_parrot\\Lib\\http\\client.py:1378\u001b[0m, in \u001b[0;36mHTTPConnection.getresponse\u001b[1;34m(self)\u001b[0m\n\u001b[0;32m   1376\u001b[0m \u001b[39mtry\u001b[39;00m:\n\u001b[0;32m   1377\u001b[0m     \u001b[39mtry\u001b[39;00m:\n\u001b[1;32m-> 1378\u001b[0m         response\u001b[39m.\u001b[39;49mbegin()\n\u001b[0;32m   1379\u001b[0m     \u001b[39mexcept\u001b[39;00m \u001b[39mConnectionError\u001b[39;00m:\n\u001b[0;32m   1380\u001b[0m         \u001b[39mself\u001b[39m\u001b[39m.\u001b[39mclose()\n",
      "File \u001b[1;32mc:\\Users\\jegam\\anaconda3\\envs\\calvinist_parrot\\Lib\\http\\client.py:318\u001b[0m, in \u001b[0;36mHTTPResponse.begin\u001b[1;34m(self)\u001b[0m\n\u001b[0;32m    316\u001b[0m \u001b[39m# read until we get a non-100 response\u001b[39;00m\n\u001b[0;32m    317\u001b[0m \u001b[39mwhile\u001b[39;00m \u001b[39mTrue\u001b[39;00m:\n\u001b[1;32m--> 318\u001b[0m     version, status, reason \u001b[39m=\u001b[39m \u001b[39mself\u001b[39;49m\u001b[39m.\u001b[39;49m_read_status()\n\u001b[0;32m    319\u001b[0m     \u001b[39mif\u001b[39;00m status \u001b[39m!=\u001b[39m CONTINUE:\n\u001b[0;32m    320\u001b[0m         \u001b[39mbreak\u001b[39;00m\n",
      "File \u001b[1;32mc:\\Users\\jegam\\anaconda3\\envs\\calvinist_parrot\\Lib\\http\\client.py:279\u001b[0m, in \u001b[0;36mHTTPResponse._read_status\u001b[1;34m(self)\u001b[0m\n\u001b[0;32m    278\u001b[0m \u001b[39mdef\u001b[39;00m \u001b[39m_read_status\u001b[39m(\u001b[39mself\u001b[39m):\n\u001b[1;32m--> 279\u001b[0m     line \u001b[39m=\u001b[39m \u001b[39mstr\u001b[39m(\u001b[39mself\u001b[39;49m\u001b[39m.\u001b[39;49mfp\u001b[39m.\u001b[39;49mreadline(_MAXLINE \u001b[39m+\u001b[39;49m \u001b[39m1\u001b[39;49m), \u001b[39m\"\u001b[39m\u001b[39miso-8859-1\u001b[39m\u001b[39m\"\u001b[39m)\n\u001b[0;32m    280\u001b[0m     \u001b[39mif\u001b[39;00m \u001b[39mlen\u001b[39m(line) \u001b[39m>\u001b[39m _MAXLINE:\n\u001b[0;32m    281\u001b[0m         \u001b[39mraise\u001b[39;00m LineTooLong(\u001b[39m\"\u001b[39m\u001b[39mstatus line\u001b[39m\u001b[39m\"\u001b[39m)\n",
      "File \u001b[1;32mc:\\Users\\jegam\\anaconda3\\envs\\calvinist_parrot\\Lib\\socket.py:706\u001b[0m, in \u001b[0;36mSocketIO.readinto\u001b[1;34m(self, b)\u001b[0m\n\u001b[0;32m    704\u001b[0m \u001b[39mwhile\u001b[39;00m \u001b[39mTrue\u001b[39;00m:\n\u001b[0;32m    705\u001b[0m     \u001b[39mtry\u001b[39;00m:\n\u001b[1;32m--> 706\u001b[0m         \u001b[39mreturn\u001b[39;00m \u001b[39mself\u001b[39;49m\u001b[39m.\u001b[39;49m_sock\u001b[39m.\u001b[39;49mrecv_into(b)\n\u001b[0;32m    707\u001b[0m     \u001b[39mexcept\u001b[39;00m timeout:\n\u001b[0;32m    708\u001b[0m         \u001b[39mself\u001b[39m\u001b[39m.\u001b[39m_timeout_occurred \u001b[39m=\u001b[39m \u001b[39mTrue\u001b[39;00m\n",
      "File \u001b[1;32mc:\\Users\\jegam\\anaconda3\\envs\\calvinist_parrot\\Lib\\ssl.py:1311\u001b[0m, in \u001b[0;36mSSLSocket.recv_into\u001b[1;34m(self, buffer, nbytes, flags)\u001b[0m\n\u001b[0;32m   1307\u001b[0m     \u001b[39mif\u001b[39;00m flags \u001b[39m!=\u001b[39m \u001b[39m0\u001b[39m:\n\u001b[0;32m   1308\u001b[0m         \u001b[39mraise\u001b[39;00m \u001b[39mValueError\u001b[39;00m(\n\u001b[0;32m   1309\u001b[0m           \u001b[39m\"\u001b[39m\u001b[39mnon-zero flags not allowed in calls to recv_into() on \u001b[39m\u001b[39m%s\u001b[39;00m\u001b[39m\"\u001b[39m \u001b[39m%\u001b[39m\n\u001b[0;32m   1310\u001b[0m           \u001b[39mself\u001b[39m\u001b[39m.\u001b[39m\u001b[39m__class__\u001b[39m)\n\u001b[1;32m-> 1311\u001b[0m     \u001b[39mreturn\u001b[39;00m \u001b[39mself\u001b[39;49m\u001b[39m.\u001b[39;49mread(nbytes, buffer)\n\u001b[0;32m   1312\u001b[0m \u001b[39melse\u001b[39;00m:\n\u001b[0;32m   1313\u001b[0m     \u001b[39mreturn\u001b[39;00m \u001b[39msuper\u001b[39m()\u001b[39m.\u001b[39mrecv_into(buffer, nbytes, flags)\n",
      "File \u001b[1;32mc:\\Users\\jegam\\anaconda3\\envs\\calvinist_parrot\\Lib\\ssl.py:1167\u001b[0m, in \u001b[0;36mSSLSocket.read\u001b[1;34m(self, len, buffer)\u001b[0m\n\u001b[0;32m   1165\u001b[0m \u001b[39mtry\u001b[39;00m:\n\u001b[0;32m   1166\u001b[0m     \u001b[39mif\u001b[39;00m buffer \u001b[39mis\u001b[39;00m \u001b[39mnot\u001b[39;00m \u001b[39mNone\u001b[39;00m:\n\u001b[1;32m-> 1167\u001b[0m         \u001b[39mreturn\u001b[39;00m \u001b[39mself\u001b[39;49m\u001b[39m.\u001b[39;49m_sslobj\u001b[39m.\u001b[39;49mread(\u001b[39mlen\u001b[39;49m, buffer)\n\u001b[0;32m   1168\u001b[0m     \u001b[39melse\u001b[39;00m:\n\u001b[0;32m   1169\u001b[0m         \u001b[39mreturn\u001b[39;00m \u001b[39mself\u001b[39m\u001b[39m.\u001b[39m_sslobj\u001b[39m.\u001b[39mread(\u001b[39mlen\u001b[39m)\n",
      "\u001b[1;31mKeyboardInterrupt\u001b[0m: "
     ]
    }
   ],
   "source": [
    "for category in categories['Category']:\n",
    "    print(f\"\\nIndexing {category}...\")\n",
    "    category_docs[category] = []\n",
    "    temp_index = VectorStoreIndex([], service_context=service_context)\n",
    "    for book in tqdm(books.loc[books['final_bundled_category'] == category, 'filename']):\n",
    "        shutil.copy(f'raw_data/ccel/{book}', 'temp/temp.txt')\n",
    "        title, authors, validation = extract_title_and_creators(f'raw_data/ccel/{book}')\n",
    "        documents = SimpleDirectoryReader('temp').load_data()\n",
    "        for doc in documents:\n",
    "            doc.metadata['title'] = title\n",
    "            doc.metadata['authors'] = authors\n",
    "            category_docs[category].append(doc)\n",
    "            temp_index.insert(doc)\n",
    "    temp_index.storage_context.persist(persist_dir=f'query_engines/{category.lower().replace(\" \", \"_\")}')"
   ]
  },
  {
   "cell_type": "code",
   "execution_count": null,
   "metadata": {},
   "outputs": [],
   "source": [
    "books.loc[books['final_bundled_category'] == 'Christian Life and Worship', :].to_csv('christian_life_and_worship.csv', index=False)"
   ]
  },
  {
   "cell_type": "code",
   "execution_count": null,
   "metadata": {},
   "outputs": [
    {
     "name": "stdout",
     "output_type": "stream",
     "text": [
      "\n",
      "Indexing Christian Life and Worship...\n"
     ]
    },
    {
     "name": "stderr",
     "output_type": "stream",
     "text": [
      "100%|██████████| 167/167 [21:48<00:00,  7.84s/it]\n"
     ]
    },
    {
     "name": "stdout",
     "output_type": "stream",
     "text": [
      "\n",
      "Indexing Sermons...\n"
     ]
    },
    {
     "name": "stderr",
     "output_type": "stream",
     "text": [
      "100%|██████████| 102/102 [44:18<00:00, 26.06s/it]\n"
     ]
    }
   ],
   "source": [
    "for category in ['Christian Life and Worship', 'Sermons']:\n",
    "    print(f\"\\nIndexing {category}...\")\n",
    "    category_docs[category] = []\n",
    "    temp_index = VectorStoreIndex([], service_context=service_context)\n",
    "    for book in tqdm(books.loc[books['final_bundled_category'] == category, 'filename']):\n",
    "        shutil.copy(f'raw_data/ccel/{book}', 'temp/temp.txt')\n",
    "        title, authors, validation = extract_title_and_creators(f'raw_data/ccel/{book}')\n",
    "        documents = SimpleDirectoryReader('temp').load_data()\n",
    "        for doc in documents:\n",
    "            doc.metadata['title'] = title\n",
    "            doc.metadata['authors'] = authors\n",
    "            category_docs[category].append(doc)\n",
    "            temp_index.insert(doc)\n",
    "    temp_index.storage_context.persist(persist_dir=f'query_engines/{category.lower().replace(\" \", \"_\")}')"
   ]
  },
  {
   "cell_type": "code",
   "execution_count": 72,
   "metadata": {},
   "outputs": [
    {
     "data": {
      "text/plain": [
       "['https://biblical-texts-and-commentaries-west2-e4y6sp3yrq-wl.a.run.app',\n",
       " 'https://christian-biography-west2-e4y6sp3yrq-wl.a.run.app',\n",
       " 'https://christian-devotional-west2-e4y6sp3yrq-wl.a.run.app',\n",
       " 'https://christian-fiction-west2-e4y6sp3yrq-wl.a.run.app',\n",
       " 'https://christian-life-and-worship-west2-e4y6sp3yrq-wl.a.run.app',\n",
       " 'https://christian-living-west2-e4y6sp3yrq-wl.a.run.app',\n",
       " 'https://christian-poetry-west2-e4y6sp3yrq-wl.a.run.app',\n",
       " 'https://early-christian-fathers-west2-e4y6sp3yrq-wl.a.run.app',\n",
       " 'https://early-christian-literature-west2-e4y6sp3yrq-wl.a.run.app',\n",
       " 'https://historical-and-biographical-texts-west2-e4y6sp3yrq-wl.a.run.app',\n",
       " 'https://miscellaneous-west2-e4y6sp3yrq-wl.a.run.app',\n",
       " 'https://reformed-commentaries-west2-e4y6sp3yrq-wl.a.run.app',\n",
       " 'https://reformed-theology-west2-e4y6sp3yrq-wl.a.run.app',\n",
       " 'https://sermons-west2-e4y6sp3yrq-wl.a.run.app',\n",
       " 'https://systematic-theology-west2-e4y6sp3yrq-wl.a.run.app',\n",
       " 'https://theology-and-beliefs-west2-e4y6sp3yrq-wl.a.run.app',\n",
       " 'https://theology-west2-e4y6sp3yrq-wl.a.run.app']"
      ]
     },
     "execution_count": 72,
     "metadata": {},
     "output_type": "execute_result"
    }
   ],
   "source": [
    "with open('urls to the query engines.txt', 'r') as f:\n",
    "    urls = f.read().split('\\n')\n",
    "\n",
    "urls"
   ]
  },
  {
   "cell_type": "code",
   "execution_count": 15,
   "metadata": {},
   "outputs": [
    {
     "data": {
      "text/plain": [
       "[\"Books focusing on the interpretation, analysis, and study of biblical texts. - Includes books like The Expositor's Bible: Ezra, Nehemiah, and Esther, The Expositor's Bible: The Song of Solomon and the Lamentations of Jeremiah, The Expositor's Bible: The Epistles of St. John and authors like Calvin, John (1509-1564), Robertson, A. T. (1863-1934), Maclaren, Alexander (1826-1910)\",\n",
       " 'Biographical accounts of notable Christian figures. - Includes books like Autobiography of George Fox, Entire Sanctification, Historia Calamitatum: The Story of My Misfortunes and authors like Voragine, Jacobus de (1230-1298), Fox, George (1624-1691), Clarke, Adam',\n",
       " 'Books meant for daily Christian reflection, prayer, and meditation. - Includes books like A Book of Strife in the Form of the Diary of an Old Soul, Christ Altogether Lovely, Daily Meditations and Prayers and authors like MacDonald, George (1824-1905), Flavel, John (1630-1691), Bradford, John (1510-1555)',\n",
       " \"Fictional works that emphasize Christian themes and values. - Includes books like The Pilgrim's Progress, The Innocence of Father Brown, Magic: A Fantastic Comedy and authors like MacDonald, George (1824-1905), Tolstoy, Leo Nikolayevich (1828-1910), Chesterton, Gilbert K (1874-1936)\",\n",
       " 'Books on Christian practices, worship, and daily living. - Includes books like What I Saw in America, A COLLECTION OF LETTERS, A Confession and authors like Spurgeon, Charles Haddon (1834-1892), South, Robert, (1634-1716), Law, William (1686-1761)',\n",
       " 'Guides and reflections on leading a Christian life. - Includes books like A Discourse concerning Evangelical Love, Church Peace, and Unity, A Persuasive to a Holy Life: from the Happiness Which Attends It Both in This World, and in the World to Come., A Selection from his Letters and authors like Owen, John (1616-1683), Murray, Andrew, Watson, Thomas',\n",
       " 'Poetic works with Christian themes and expressions. - Includes books like Hymns from the Land of Luther, Hymns of Ter Steegen and Others (Second Series), Hymns of Ter Steegen, Suso, and Others and authors like Bevan, Frances, Brownlie, John, Walker, William (1809-1875)',\n",
       " 'Writings from early Christian leaders and theologians. - Includes books like ECF: Aphrahat: Demonstrations, ECF: Eunomius: The First Apology, ECF: Hegesippus and authors like Pearse, Roger, Roger Pearse',\n",
       " 'Early texts, letters, and documents from the initial centuries of Christianity. - Includes books like ANF02. Fathers of the Second Century: Hermas, Tatian, Athenagoras, Theophilus, and Clement of Alexandria (Entire), ANF04. Fathers of the Third Century: Tertullian, Part Fourth; Minucius Felix; Commodian; Origen, Parts First and Second, ANF06. Fathers of the Third Century: Gregory Thaumaturgus, Dionysius the Great, Julius Africanus, Anatolius, and Minor Writers, Methodius, Arnobius and authors like Schaff, Philip (1819-1893) (Editor), Lightfoot, Joseph Barber (1828-1889), Pearse, Roger',\n",
       " 'Accounts of Christian history and biographies of significant figures. - Includes books like Biography of John Owen, ECF: Possidius: Life of St. Augustine, Funeral Sermon on Dr John Owen and authors like Schaff, Philip (1819-1893), Harnack, Adolf (1851-1930), Bangs, Nathan, D.D.',\n",
       " \"A diverse collection of Christian texts that don't fit neatly into other categories. - Includes books like Swiss Family Robinson, Easton's Bible Dictionary, Hitchcock's Bible Names Dictionary and authors like Pearse, Roger, Chesterton, Gilbert K. (1874-1936), Anonymous\",\n",
       " 'Comprehensive exploration of Christian doctrines and theology. - Includes books like A Body of Practical Divinity, Doctrinal Theology, History of Dogma - Volume IV and authors like Hodge, Charles (1797-1878), Hopkins, Samuel (1721-1803), Gill, John (1697-1771)',\n",
       " \"In-depth studies and discussions on various theological topics. - Includes books like A Brief Declaration and Vindication of The Doctrine of the Trinity, A Discourse on the Cleansing Virtue of Christ's Blood, A Display of Arminianism and authors like Owen, John (1616-1683), Schaff, Philip (1819-1893) (Editor), Cyril of Alexandria\",\n",
       " 'Exploration of Christian beliefs, doctrines, and theological perspectives. - Includes books like The Evidences of Christianity Briefly Stated and the New Testament Proved to Be Genuine. In Three Judicious and Excellent Sermons., The Catholic Encyclopedia, Volume 1: Aachen-Assize, The Catholic Encyclopedia, Volume 10: Mass Music-Newman and authors like Herbermann, Charles George (1840-1916), Owen, John (1616-1683), Schaff, Philip (1819-1893) (Editor)',\n",
       " 'Reformed books focusing on the interpretation, analysis, and study of biblical texts. - Includes books like Commentary on Jeremiah and Lamentations - Volume 5, Commentary on Jeremiah and Lamentations - Volume 5, Commentary on Isaiah - Volume 2 and authors like Henry, Matthew, Henry, Matthew, Pink, Arthur W.',\n",
       " 'Books from prominent Reformed theologians - Includes books like Biography of John Owen, A Body of Divinity, Hymns From the German and authors like Calvin, John (1509-1564), Cox, Frances Elizabeth, Knox, John (1514-1572)',\n",
       " \"Collections of sermons within the CCEL - Includes books like Spurgeon's Sermons Volume 38: 1892, Spurgeon's Sermons Volume 12: 1866, Spurgeon's Sermons Volume 51: 1905 and authors like Finney, Charles G. (1792-1875), Bentley, Richard (1662-1742), Butler, Joseph (1692-1752)\"]"
      ]
     },
     "execution_count": 15,
     "metadata": {},
     "output_type": "execute_result"
    }
   ],
   "source": [
    "with open('index_summary.txt', 'r') as f:\n",
    "    index_summary = f.read().split('\\n')\n",
    "\n",
    "index_summary"
   ]
  },
  {
   "cell_type": "code",
   "execution_count": 61,
   "metadata": {},
   "outputs": [],
   "source": [
    "from langchain.tools import Tool\n",
    "\n",
    "import requests"
   ]
  },
  {
   "cell_type": "code",
   "execution_count": 78,
   "metadata": {},
   "outputs": [
    {
     "name": "stdout",
     "output_type": "stream",
     "text": [
      "\n",
      " Biblical texts and commentaries\n",
      "biblical_texts_and_commentaries https://biblical-texts-and-commentaries-west2-e4y6sp3yrq-wl.a.run.app/query\n",
      "Books focusing on the interpretation, analysis, and study of biblical texts. - Includes books like The Expositor's Bible: Ezra, Nehemiah, and Esther, The Expositor's Bible: The Song of Solomon and the Lamentations of Jeremiah, The Expositor's Bible: The Epistles of St. John and authors like Calvin, John (1509-1564), Robertson, A. T. (1863-1934), Maclaren, Alexander (1826-1910)\n",
      "\n",
      " Christian biography\n",
      "christian_biography https://christian-biography-west2-e4y6sp3yrq-wl.a.run.app/query\n",
      "Biographical accounts of notable Christian figures. - Includes books like Autobiography of George Fox, Entire Sanctification, Historia Calamitatum: The Story of My Misfortunes and authors like Voragine, Jacobus de (1230-1298), Fox, George (1624-1691), Clarke, Adam\n",
      "\n",
      " Christian devotional\n",
      "christian_devotional https://christian-devotional-west2-e4y6sp3yrq-wl.a.run.app/query\n",
      "Books meant for daily Christian reflection, prayer, and meditation. - Includes books like A Book of Strife in the Form of the Diary of an Old Soul, Christ Altogether Lovely, Daily Meditations and Prayers and authors like MacDonald, George (1824-1905), Flavel, John (1630-1691), Bradford, John (1510-1555)\n",
      "\n",
      " Christian fiction\n",
      "christian_fiction https://christian-fiction-west2-e4y6sp3yrq-wl.a.run.app/query\n",
      "Fictional works that emphasize Christian themes and values. - Includes books like The Pilgrim's Progress, The Innocence of Father Brown, Magic: A Fantastic Comedy and authors like MacDonald, George (1824-1905), Tolstoy, Leo Nikolayevich (1828-1910), Chesterton, Gilbert K (1874-1936)\n",
      "\n",
      " Christian life and worship\n",
      "christian_life_and_worship https://christian-life-and-worship-west2-e4y6sp3yrq-wl.a.run.app/query\n",
      "Books on Christian practices, worship, and daily living. - Includes books like What I Saw in America, A COLLECTION OF LETTERS, A Confession and authors like Spurgeon, Charles Haddon (1834-1892), South, Robert, (1634-1716), Law, William (1686-1761)\n",
      "\n",
      " Christian living\n",
      "christian_living https://christian-living-west2-e4y6sp3yrq-wl.a.run.app/query\n",
      "Guides and reflections on leading a Christian life. - Includes books like A Discourse concerning Evangelical Love, Church Peace, and Unity, A Persuasive to a Holy Life: from the Happiness Which Attends It Both in This World, and in the World to Come., A Selection from his Letters and authors like Owen, John (1616-1683), Murray, Andrew, Watson, Thomas\n",
      "\n",
      " Christian poetry\n",
      "christian_poetry https://christian-poetry-west2-e4y6sp3yrq-wl.a.run.app/query\n",
      "Poetic works with Christian themes and expressions. - Includes books like Hymns from the Land of Luther, Hymns of Ter Steegen and Others (Second Series), Hymns of Ter Steegen, Suso, and Others and authors like Bevan, Frances, Brownlie, John, Walker, William (1809-1875)\n",
      "\n",
      " Early christian fathers\n",
      "early_christian_fathers https://early-christian-fathers-west2-e4y6sp3yrq-wl.a.run.app/query\n",
      "Writings from early Christian leaders and theologians. - Includes books like ECF: Aphrahat: Demonstrations, ECF: Eunomius: The First Apology, ECF: Hegesippus and authors like Pearse, Roger, Roger Pearse\n",
      "\n",
      " Early christian literature\n",
      "early_christian_literature https://early-christian-literature-west2-e4y6sp3yrq-wl.a.run.app/query\n",
      "Early texts, letters, and documents from the initial centuries of Christianity. - Includes books like ANF02. Fathers of the Second Century: Hermas, Tatian, Athenagoras, Theophilus, and Clement of Alexandria (Entire), ANF04. Fathers of the Third Century: Tertullian, Part Fourth; Minucius Felix; Commodian; Origen, Parts First and Second, ANF06. Fathers of the Third Century: Gregory Thaumaturgus, Dionysius the Great, Julius Africanus, Anatolius, and Minor Writers, Methodius, Arnobius and authors like Schaff, Philip (1819-1893) (Editor), Lightfoot, Joseph Barber (1828-1889), Pearse, Roger\n",
      "\n",
      " Historical and biographical texts\n",
      "historical_and_biographical_texts https://historical-and-biographical-texts-west2-e4y6sp3yrq-wl.a.run.app/query\n",
      "Accounts of Christian history and biographies of significant figures. - Includes books like Biography of John Owen, ECF: Possidius: Life of St. Augustine, Funeral Sermon on Dr John Owen and authors like Schaff, Philip (1819-1893), Harnack, Adolf (1851-1930), Bangs, Nathan, D.D.\n",
      "\n",
      " Miscellaneous\n",
      "miscellaneous https://miscellaneous-west2-e4y6sp3yrq-wl.a.run.app/query\n",
      "A diverse collection of Christian texts that don't fit neatly into other categories. - Includes books like Swiss Family Robinson, Easton's Bible Dictionary, Hitchcock's Bible Names Dictionary and authors like Pearse, Roger, Chesterton, Gilbert K. (1874-1936), Anonymous\n",
      "\n",
      " Reformed commentaries\n",
      "reformed_commentaries https://reformed-commentaries-west2-e4y6sp3yrq-wl.a.run.app/query\n",
      "Comprehensive exploration of Christian doctrines and theology. - Includes books like A Body of Practical Divinity, Doctrinal Theology, History of Dogma - Volume IV and authors like Hodge, Charles (1797-1878), Hopkins, Samuel (1721-1803), Gill, John (1697-1771)\n",
      "\n",
      " Reformed theology\n",
      "reformed_theology https://reformed-theology-west2-e4y6sp3yrq-wl.a.run.app/query\n",
      "In-depth studies and discussions on various theological topics. - Includes books like A Brief Declaration and Vindication of The Doctrine of the Trinity, A Discourse on the Cleansing Virtue of Christ's Blood, A Display of Arminianism and authors like Owen, John (1616-1683), Schaff, Philip (1819-1893) (Editor), Cyril of Alexandria\n",
      "\n",
      " Sermons\n",
      "sermons https://sermons-west2-e4y6sp3yrq-wl.a.run.app/query\n",
      "Exploration of Christian beliefs, doctrines, and theological perspectives. - Includes books like The Evidences of Christianity Briefly Stated and the New Testament Proved to Be Genuine. In Three Judicious and Excellent Sermons., The Catholic Encyclopedia, Volume 1: Aachen-Assize, The Catholic Encyclopedia, Volume 10: Mass Music-Newman and authors like Herbermann, Charles George (1840-1916), Owen, John (1616-1683), Schaff, Philip (1819-1893) (Editor)\n",
      "\n",
      " Systematic theology\n",
      "systematic_theology https://systematic-theology-west2-e4y6sp3yrq-wl.a.run.app/query\n",
      "Reformed books focusing on the interpretation, analysis, and study of biblical texts. - Includes books like Harmony of the Law - Volume 3, Preface to the Letter of St. Paul to the Romans, Why Four Gospels? and authors like Pink, Arthur W., Calvin, Jean, Calvin, John (1509 - 1564)\n",
      "\n",
      " Theology\n",
      "theology https://theology-and-beliefs-west2-e4y6sp3yrq-wl.a.run.app/query\n",
      "Books from prominent Reformed theologians - Includes books like Commentary on Corinthians - Volume 2, The Godhood of God, Gospel Grounds and Evidences of the Faith of God's Elect and authors like Benson, Louis Fitzgerald, Enyclopaedia Britannica (1885, 1911), Owen, John (1616-1683)\n",
      "\n",
      " Theology and beliefs\n",
      "theology_and_beliefs https://theology-west2-e4y6sp3yrq-wl.a.run.app/query\n",
      "Collections of sermons within the CCEL - Includes books like Spurgeon's Sermons Volume 01: 1855, Spurgeon's Sermons Volume 59: 1913, Spurgeon's Sermons Volume 23: 1877 and authors like Donne, John (1572-1631), Latimer, Hugh (1485-1555), Bradford, John (1510-1555)\n"
     ]
    }
   ],
   "source": [
    "n = 0\n",
    "\n",
    "for i in os.listdir('query_engines'):\n",
    "    print('\\n', i.replace('_', ' ').capitalize())\n",
    "    print(i, urls[n]+'/query')\n",
    "    print(index_summary[n])\n",
    "    n += 1"
   ]
  },
  {
   "cell_type": "code",
   "execution_count": 17,
   "metadata": {},
   "outputs": [],
   "source": [
    "\n",
    "def ask_question(question, url):\n",
    "    return requests.post(url, json={'question': question})\n",
    "\n",
    "# using this function as base, write a function for each of the urls in the list above\n",
    "def ask_question_christian_life_and_worship(question):\n",
    "    return ask_question(question, urls[0])\n",
    "\n",
    "def ask_question_sermons(question):\n",
    "    return ask_question(question, urls[1])\n"
   ]
  },
  {
   "cell_type": "code",
   "execution_count": null,
   "metadata": {},
   "outputs": [],
   "source": [
    "tools = [\n",
    "    Tool(\n",
    "        name=\"UXR_Librarian\",\n",
    "        func=self.vector_index.query,\n",
    "        description=\"Main knowledge base for all the UX Research conducted at Roku since Aug 2021\"\n",
    "    )\n",
    "]"
   ]
  },
  {
   "cell_type": "code",
   "execution_count": 30,
   "metadata": {},
   "outputs": [
    {
     "name": "stdout",
     "output_type": "stream",
     "text": [
      "Predestination, as discussed in the context, refers to God's foreknowledge and foreordination of believers. It emphasizes that God knew and chose certain individuals to be conformed to the image of His Son and be saved. This predestination is based on God's purpose and plan, and it is not contingent or subject to doubt. The passage does not provide details on how or why God foreknew or predestined individuals, but it highlights that their salvation is entirely attributed to God's grace and design.\n"
     ]
    }
   ],
   "source": [
    "output = response.json()\n",
    "print(output['response'])"
   ]
  },
  {
   "cell_type": "code",
   "execution_count": 47,
   "metadata": {},
   "outputs": [
    {
     "data": {
      "text/plain": [
       "'abcdefghijklmnopqrstuvwxyz'"
      ]
     },
     "execution_count": 47,
     "metadata": {},
     "output_type": "execute_result"
    }
   ],
   "source": [
    "import string\n",
    "\n",
    "string.ascii_lowercase"
   ]
  },
  {
   "cell_type": "code",
   "execution_count": 59,
   "metadata": {},
   "outputs": [
    {
     "name": "stdout",
     "output_type": "stream",
     "text": [
      "Sources:\n",
      "1. Wesley's Notes on the Bible by Wesley, John (1703-1791) - Confidence: a. 0.873\n",
      "2. Barnes' New Testament Notes by Barnes, Albert - Confidence: b. 0.853, e. 0.847, g. 0.84, i. 0.837, j. 0.836\n",
      "3. Commentary Critical and Explanatory on the Whole Bible by Jamieson, Robert - Confidence: c. 0.851, h. 0.838\n",
      "4. Jeremiah: Being the Baird Lecture for 1922 by Smith, George Adam (1856-1942) - Confidence: d. 0.85, f. 0.844\n",
      "\n"
     ]
    }
   ],
   "source": [
    "sources = {}\n",
    "alphabet = string.ascii_lowercase\n",
    "a = 0\n",
    "\n",
    "for source in output['source_nodes']:\n",
    "    if source['node']['metadata']['title'] not in sources.keys():\n",
    "        sources[source['node']['metadata']['title']] = {'authors': source['node']['metadata']['authors'], 'score': [f\"{alphabet[a]}. {round(source['score'], 3)}\"]}\n",
    "    else:\n",
    "        sources[source['node']['metadata']['title']]['score'].append(f\"{alphabet[a]}. {round(source['score'], 3)}\")\n",
    "    a += 1\n",
    "\n",
    "source_text = \"Sources:\\n\"\n",
    "n = 1\n",
    "\n",
    "for source in sources.keys():\n",
    "    source_text += f\"{n}. {source} by {sources[source]['authors']} - Confidence: {', '.join(sources[source]['score'])}\\n\"\n",
    "    n += 1\n",
    "\n",
    "print(source_text)"
   ]
  },
  {
   "cell_type": "code",
   "execution_count": 32,
   "metadata": {},
   "outputs": [
    {
     "name": "stdout",
     "output_type": "stream",
     "text": [
      "Sources:\n",
      "1. Wesley's Notes on the Bible by Wesley, John (1703-1791)\n",
      "2. Barnes' New Testament Notes by Barnes, Albert\n",
      "3. Commentary Critical and Explanatory on the Whole Bible by Jamieson, Robert\n",
      "4. Jeremiah: Being the Baird Lecture for 1922 by Smith, George Adam (1856-1942)\n",
      "\n"
     ]
    }
   ],
   "source": [
    "books = []\n",
    "source_text = \"Sources:\\n\"\n",
    "n = 1\n",
    "for source in output['metadata']:\n",
    "    if output['metadata'][source]['title'] not in books:\n",
    "        books.append(output['metadata'][source]['title'])\n",
    "        source_text += f\"{n}. {output['metadata'][source]['title']} by {output['metadata'][source]['authors']}\\n\"\n",
    "        n += 1\n",
    "\n",
    "print(source_text)"
   ]
  },
  {
   "cell_type": "code",
   "execution_count": null,
   "metadata": {},
   "outputs": [],
   "source": []
  }
 ],
 "metadata": {
  "kernelspec": {
   "display_name": "calvinist_parrot",
   "language": "python",
   "name": "python3"
  },
  "language_info": {
   "codemirror_mode": {
    "name": "ipython",
    "version": 3
   },
   "file_extension": ".py",
   "mimetype": "text/x-python",
   "name": "python",
   "nbconvert_exporter": "python",
   "pygments_lexer": "ipython3",
   "version": "3.11.5"
  },
  "orig_nbformat": 4
 },
 "nbformat": 4,
 "nbformat_minor": 2
}
